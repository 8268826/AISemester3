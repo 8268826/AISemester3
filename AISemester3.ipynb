{
  "cells": [
    {
      "cell_type": "markdown",
      "metadata": {
        "id": "view-in-github",
        "colab_type": "text"
      },
      "source": [
        "<a href=\"https://colab.research.google.com/github/8268826/AISemester3/blob/main/AISemester3.ipynb\" target=\"_parent\"><img src=\"https://colab.research.google.com/assets/colab-badge.svg\" alt=\"Open In Colab\"/></a>"
      ]
    },
    {
      "cell_type": "markdown",
      "source": [
        "# Рабочая тетрадь № 1"
      ],
      "metadata": {
        "id": "iHB2zKViYvcB"
      },
      "id": "iHB2zKViYvcB"
    },
    {
      "cell_type": "markdown",
      "id": "47ef04c3",
      "metadata": {
        "id": "47ef04c3"
      },
      "source": [
        "## 1.3 Задание"
      ]
    },
    {
      "cell_type": "code",
      "execution_count": null,
      "id": "eee3273b",
      "metadata": {
        "id": "eee3273b",
        "outputId": "d40804e5-365b-426f-f8cb-a60b55a86d7b"
      },
      "outputs": [
        {
          "name": "stdout",
          "output_type": "stream",
          "text": [
            "True | <class 'bool'> \n",
            " {8, 1, 3, 7} | <class 'set'> \n",
            " {2, 'apple', 4, 5, 10} | <class 'set'> \n",
            " set() | <class 'set'> \n",
            " ('Антонова Антонина', 34, 'ж') | <class 'tuple'> \n",
            " type | <class 'str'> \n",
            " [1, 'title', 2, 'content'] | <class 'list'>\n"
          ]
        }
      ],
      "source": [
        "x = 5 >= 2\n",
        "A = {1,3,7,8}\n",
        "B = {2, 4, 5, 10, 'apple'}\n",
        "C = A & B\n",
        "df = 'Антонова Антонина', 34, 'ж'\n",
        "z = 'type'\n",
        "D = [1, 'title', 2, 'content']\n",
        "\n",
        "print(x, '|', type(x), '\\n', A, '|', type(A), '\\n',\n",
        "      B, '|', type(B), '\\n', C, '|', type(C), '\\n', \n",
        "      df, '|', type(df), '\\n', z, '|', type(z), '\\n',\n",
        "      D, '|', type(D))"
      ]
    },
    {
      "cell_type": "markdown",
      "id": "a6029162",
      "metadata": {
        "id": "a6029162"
      },
      "source": [
        "## 2.3. Задание"
      ]
    },
    {
      "cell_type": "code",
      "execution_count": null,
      "id": "73df5013",
      "metadata": {
        "id": "73df5013",
        "outputId": "3a7d8424-e32c-4316-8a13-d036916c3c98"
      },
      "outputs": [
        {
          "name": "stdout",
          "output_type": "stream",
          "text": [
            "-infinity <  -9  < -5\n"
          ]
        }
      ],
      "source": [
        "x = 4\n",
        "if x < -5:\n",
        "    print(\"-infinity < \",x,\" < -5\")\n",
        "elif x > 5:\n",
        "    print(\"5 < \",x,\" < infinity\")\n",
        "else:\n",
        "    print(\"-5 < \",x ,\" < 5\")"
      ]
    },
    {
      "cell_type": "markdown",
      "id": "8e22cf24",
      "metadata": {
        "id": "8e22cf24"
      },
      "source": [
        "## 3.3.1 Задание"
      ]
    },
    {
      "cell_type": "code",
      "execution_count": null,
      "id": "160e7a56",
      "metadata": {
        "id": "160e7a56",
        "outputId": "5f30ae3e-9aff-48ba-f9b9-aa997f542bc0"
      },
      "outputs": [
        {
          "name": "stdout",
          "output_type": "stream",
          "text": [
            "10\n",
            "7\n",
            "4\n",
            "1\n"
          ]
        }
      ],
      "source": [
        "x = 10\n",
        "while x >= 1:\n",
        "    print(x)\n",
        "    x -= 3"
      ]
    },
    {
      "cell_type": "markdown",
      "id": "2ecc0a50",
      "metadata": {
        "id": "2ecc0a50"
      },
      "source": [
        "## 3.3.2 Задание"
      ]
    },
    {
      "cell_type": "code",
      "execution_count": null,
      "id": "34d1a600",
      "metadata": {
        "id": "34d1a600",
        "outputId": "979812fe-a0e7-481d-cdc7-d1aeef1f28c8"
      },
      "outputs": [
        {
          "name": "stdout",
          "output_type": "stream",
          "text": [
            "['hands', 'feet', 'nose', 'mouth']\n"
          ]
        }
      ],
      "source": [
        "humanParts = ['hands','feet','nose','mouth']\n",
        "print(humanParts)"
      ]
    },
    {
      "cell_type": "markdown",
      "id": "f27c0ba4",
      "metadata": {
        "id": "f27c0ba4"
      },
      "source": [
        "## 3.3.3 Задание"
      ]
    },
    {
      "cell_type": "code",
      "execution_count": null,
      "id": "afa0a91f",
      "metadata": {
        "id": "afa0a91f",
        "outputId": "b85007e3-1048-4718-c078-1b86b33f7173"
      },
      "outputs": [
        {
          "name": "stdout",
          "output_type": "stream",
          "text": [
            "2\n",
            "3\n",
            "4\n",
            "5\n",
            "6\n",
            "7\n",
            "8\n",
            "9\n",
            "10\n",
            "11\n",
            "12\n",
            "13\n",
            "14\n"
          ]
        }
      ],
      "source": [
        "for number in range(2,15,1):\n",
        "    print(number)"
      ]
    },
    {
      "cell_type": "markdown",
      "id": "eb8f9eec",
      "metadata": {
        "id": "eb8f9eec"
      },
      "source": [
        "## 3.3.4 Задание"
      ]
    },
    {
      "cell_type": "code",
      "execution_count": null,
      "id": "47f76d63",
      "metadata": {
        "id": "47f76d63",
        "outputId": "d8f82f1a-7011-40f9-b20a-202302ee3e8b"
      },
      "outputs": [
        {
          "name": "stdout",
          "output_type": "stream",
          "text": [
            "105\n",
            "80\n",
            "55\n",
            "30\n",
            "5\n"
          ]
        }
      ],
      "source": [
        "arr = range(5,106,25)\n",
        "arr = arr[::-1]\n",
        "for value in arr:\n",
        "    print(value)"
      ]
    },
    {
      "cell_type": "markdown",
      "id": "7174b858",
      "metadata": {
        "id": "7174b858"
      },
      "source": [
        "## 3.3.5 Задание"
      ]
    },
    {
      "cell_type": "code",
      "execution_count": null,
      "id": "a1147b4b",
      "metadata": {
        "id": "a1147b4b",
        "outputId": "eeb42a43-7702-43f3-b20e-03b168cf5013"
      },
      "outputs": [
        {
          "name": "stdout",
          "output_type": "stream",
          "text": [
            "[8, 1, 6, 3, 4, 5, 2, 7, 0, 9]\n"
          ]
        }
      ],
      "source": [
        "arr = [0,1,2,3,4,5,6,7,8,9]\n",
        "tmp = arr[::2]\n",
        "tmp = tmp[::-1]\n",
        "arr[::2] = tmp\n",
        "print(arr)"
      ]
    },
    {
      "cell_type": "markdown",
      "id": "88e1b1b7",
      "metadata": {
        "id": "88e1b1b7"
      },
      "source": [
        "## 4.3.1 Задание"
      ]
    },
    {
      "cell_type": "code",
      "execution_count": null,
      "id": "87c56e98",
      "metadata": {
        "id": "87c56e98",
        "outputId": "60f6d378-b521-4967-828e-0e736fa16a36"
      },
      "outputs": [
        {
          "data": {
            "text/plain": [
              "<matplotlib.collections.PathCollection at 0x205a2f40520>"
            ]
          },
          "execution_count": 6,
          "metadata": {},
          "output_type": "execute_result"
        },
        {
          "data": {
            "image/png": "[encoded data removed]",
            "text/plain": [
              "<Figure size 640x480 with 1 Axes>"
            ]
          },
          "metadata": {},
          "output_type": "display_data"
        }
      ],
      "source": [
        "import numpy as np\n",
        "import random as rand\n",
        "from matplotlib import pyplot as plt\n",
        "array = ['1','2','3','4','5','6','7','8','9','10']\n",
        "values = np.empty(10,dtype = float)\n",
        "for i in range(10):\n",
        "  values[i] = rand.uniform(0,1)\n",
        "mean = np.mean(values)\n",
        "median = np.median(values)\n",
        "plt.grid()\n",
        "plt.scatter(array,values)"
      ]
    },
    {
      "cell_type": "markdown",
      "id": "ffd6bbdd",
      "metadata": {
        "id": "ffd6bbdd"
      },
      "source": [
        "## 4.3.2 Задание"
      ]
    },
    {
      "cell_type": "code",
      "execution_count": null,
      "id": "43c7fc81",
      "metadata": {
        "id": "43c7fc81",
        "outputId": "a2774ad2-1e9b-4d6d-e8a5-96c0da8b8104"
      },
      "outputs": [
        {
          "data": {
            "text/plain": [
              "<matplotlib.collections.PathCollection at 0x1900a28e400>"
            ]
          },
          "execution_count": 17,
          "metadata": {},
          "output_type": "execute_result"
        },
        {
          "data": {
            "image/png": "[encoded data removed]",
            "text/plain": [
              "<Figure size 640x480 with 1 Axes>"
            ]
          },
          "metadata": {},
          "output_type": "display_data"
        }
      ],
      "source": [
        "import numpy as np\n",
        "import matplotlib.pyplot as plt\n",
        "from numpy import trapz\n",
        "x = np.arange(1,10,1)\n",
        "y = np.sqrt(1+np.exp(np.sqrt(x))+np.cos(np.power(x,2)))/np.abs(1 - np.power(np.sin(x),3)) + np.log2(np.abs(2*x))\n",
        "plt.grid()\n",
        "plt.plot(x,y)\n",
        "plt.scatter(x[:5],y[:5])"
      ]
    },
    {
      "cell_type": "markdown",
      "id": "e7521ee6",
      "metadata": {
        "id": "e7521ee6"
      },
      "source": [
        "## 4.3.3 Задание"
      ]
    },
    {
      "cell_type": "code",
      "execution_count": null,
      "id": "7f28e406",
      "metadata": {
        "id": "7f28e406",
        "outputId": "863ad2e1-b32a-458e-c016-5b0fabc9323c"
      },
      "outputs": [
        {
          "name": "stdout",
          "output_type": "stream",
          "text": [
            "5.748766544934364\n"
          ]
        },
        {
          "data": {
            "image/png": "[encoded data removed]",
            "text/plain": [
              "<Figure size 640x480 with 1 Axes>"
            ]
          },
          "metadata": {},
          "output_type": "display_data"
        }
      ],
      "source": [
        "import numpy as np\n",
        "import matplotlib.pyplot as plt\n",
        "from scipy.integrate import simps\n",
        "from numpy import trapz\n",
        "x = np.arange(0,10,1)\n",
        "y = np.abs(np.cos(x*np.exp(np.cos(x)+np.log2(x+1))))\n",
        "plt.grid()\n",
        "plt.plot(x,y,c=\"r\")\n",
        "plt.fill_between(x,y)\n",
        "\n",
        "area = trapz(y)\n",
        "print(area)"
      ]
    },
    {
      "cell_type": "markdown",
      "id": "69f61b18",
      "metadata": {
        "id": "69f61b18"
      },
      "source": [
        "## 4.3.4 Задание"
      ]
    },
    {
      "cell_type": "code",
      "execution_count": null,
      "id": "6b310901",
      "metadata": {
        "colab": {
          "base_uri": "https://localhost:8080/",
          "height": 710
        },
        "id": "6b310901",
        "outputId": "606fd305-819b-4594-c03e-43f7a1b03d32"
      },
      "outputs": [
        {
          "output_type": "stream",
          "name": "stdout",
          "text": [
            "Looking in indexes: https://pypi.org/simple, https://us-python.pkg.dev/colab-wheels/public/simple/\n",
            "Requirement already satisfied: pandas_datareader in /usr/local/lib/python3.8/dist-packages (0.9.0)\n",
            "Requirement already satisfied: lxml in /usr/local/lib/python3.8/dist-packages (from pandas_datareader) (4.9.2)\n",
            "Requirement already satisfied: requests>=2.19.0 in /usr/local/lib/python3.8/dist-packages (from pandas_datareader) (2.25.1)\n",
            "Requirement already satisfied: pandas>=0.23 in /usr/local/lib/python3.8/dist-packages (from pandas_datareader) (1.3.5)\n",
            "Requirement already satisfied: numpy>=1.17.3 in /usr/local/lib/python3.8/dist-packages (from pandas>=0.23->pandas_datareader) (1.22.4)\n",
            "Requirement already satisfied: pytz>=2017.3 in /usr/local/lib/python3.8/dist-packages (from pandas>=0.23->pandas_datareader) (2022.7.1)\n",
            "Requirement already satisfied: python-dateutil>=2.7.3 in /usr/local/lib/python3.8/dist-packages (from pandas>=0.23->pandas_datareader) (2.8.2)\n",
            "Requirement already satisfied: chardet<5,>=3.0.2 in /usr/local/lib/python3.8/dist-packages (from requests>=2.19.0->pandas_datareader) (4.0.0)\n",
            "Requirement already satisfied: idna<3,>=2.5 in /usr/local/lib/python3.8/dist-packages (from requests>=2.19.0->pandas_datareader) (2.10)\n",
            "Requirement already satisfied: certifi>=2017.4.17 in /usr/local/lib/python3.8/dist-packages (from requests>=2.19.0->pandas_datareader) (2022.12.7)\n",
            "Requirement already satisfied: urllib3<1.27,>=1.21.1 in /usr/local/lib/python3.8/dist-packages (from requests>=2.19.0->pandas_datareader) (1.26.14)\n",
            "Requirement already satisfied: six>=1.5 in /usr/local/lib/python3.8/dist-packages (from python-dateutil>=2.7.3->pandas>=0.23->pandas_datareader) (1.15.0)\n"
          ]
        },
        {
          "output_type": "stream",
          "name": "stderr",
          "text": [
            "/usr/local/lib/python3.8/dist-packages/pandas_datareader/base.py:272: SymbolWarning: Failed to read symbol: 'AAPL', replacing with NaN.\n",
            "  warnings.warn(msg.format(sym), SymbolWarning)\n",
            "/usr/local/lib/python3.8/dist-packages/pandas_datareader/base.py:272: SymbolWarning: Failed to read symbol: 'MSFT', replacing with NaN.\n",
            "  warnings.warn(msg.format(sym), SymbolWarning)\n",
            "/usr/local/lib/python3.8/dist-packages/pandas_datareader/base.py:272: SymbolWarning: Failed to read symbol: 'GOOG', replacing with NaN.\n",
            "  warnings.warn(msg.format(sym), SymbolWarning)\n"
          ]
        },
        {
          "output_type": "error",
          "ename": "RemoteDataError",
          "evalue": "ignored",
          "traceback": [
            "\u001b[0;31m---------------------------------------------------------------------------\u001b[0m",
            "\u001b[0;31mRemoteDataError\u001b[0m                           Traceback (most recent call last)",
            "\u001b[0;32m<ipython-input-2-4562f37de16d>\u001b[0m in \u001b[0;36m<module>\u001b[0;34m\u001b[0m\n\u001b[1;32m     10\u001b[0m \u001b[0;34m\u001b[0m\u001b[0m\n\u001b[1;32m     11\u001b[0m \u001b[0mstocks\u001b[0m \u001b[0;34m=\u001b[0m \u001b[0;34m[\u001b[0m\u001b[0;34m\"AAPL\"\u001b[0m\u001b[0;34m,\u001b[0m \u001b[0;34m\"MSFT\"\u001b[0m\u001b[0;34m,\u001b[0m \u001b[0;34m\"GOOG\"\u001b[0m\u001b[0;34m]\u001b[0m\u001b[0;34m\u001b[0m\u001b[0;34m\u001b[0m\u001b[0m\n\u001b[0;32m---> 12\u001b[0;31m \u001b[0mdf\u001b[0m \u001b[0;34m=\u001b[0m \u001b[0mweb\u001b[0m\u001b[0;34m.\u001b[0m\u001b[0mDataReader\u001b[0m\u001b[0;34m(\u001b[0m\u001b[0mstocks\u001b[0m\u001b[0;34m,\u001b[0m \u001b[0;34m'yahoo'\u001b[0m\u001b[0;34m,\u001b[0m \u001b[0mstart\u001b[0m\u001b[0;34m,\u001b[0m \u001b[0mend\u001b[0m\u001b[0;34m)\u001b[0m\u001b[0;34m[\u001b[0m\u001b[0;34m'Adj Close'\u001b[0m\u001b[0;34m]\u001b[0m\u001b[0;34m\u001b[0m\u001b[0;34m\u001b[0m\u001b[0m\n\u001b[0m\u001b[1;32m     13\u001b[0m \u001b[0;34m\u001b[0m\u001b[0m\n\u001b[1;32m     14\u001b[0m \u001b[0mdf\u001b[0m\u001b[0;34m.\u001b[0m\u001b[0mplot\u001b[0m\u001b[0;34m(\u001b[0m\u001b[0mfigsize\u001b[0m\u001b[0;34m=\u001b[0m\u001b[0;34m(\u001b[0m\u001b[0;36m15\u001b[0m\u001b[0;34m,\u001b[0m \u001b[0;36m7\u001b[0m\u001b[0;34m)\u001b[0m\u001b[0;34m)\u001b[0m\u001b[0;34m\u001b[0m\u001b[0;34m\u001b[0m\u001b[0m\n",
            "\u001b[0;32m/usr/local/lib/python3.8/dist-packages/pandas/util/_decorators.py\u001b[0m in \u001b[0;36mwrapper\u001b[0;34m(*args, **kwargs)\u001b[0m\n\u001b[1;32m    205\u001b[0m                 \u001b[0;32melse\u001b[0m\u001b[0;34m:\u001b[0m\u001b[0;34m\u001b[0m\u001b[0;34m\u001b[0m\u001b[0m\n\u001b[1;32m    206\u001b[0m                     \u001b[0mkwargs\u001b[0m\u001b[0;34m[\u001b[0m\u001b[0mnew_arg_name\u001b[0m\u001b[0;34m]\u001b[0m \u001b[0;34m=\u001b[0m \u001b[0mnew_arg_value\u001b[0m\u001b[0;34m\u001b[0m\u001b[0;34m\u001b[0m\u001b[0m\n\u001b[0;32m--> 207\u001b[0;31m             \u001b[0;32mreturn\u001b[0m \u001b[0mfunc\u001b[0m\u001b[0;34m(\u001b[0m\u001b[0;34m*\u001b[0m\u001b[0margs\u001b[0m\u001b[0;34m,\u001b[0m \u001b[0;34m**\u001b[0m\u001b[0mkwargs\u001b[0m\u001b[0;34m)\u001b[0m\u001b[0;34m\u001b[0m\u001b[0;34m\u001b[0m\u001b[0m\n\u001b[0m\u001b[1;32m    208\u001b[0m \u001b[0;34m\u001b[0m\u001b[0m\n\u001b[1;32m    209\u001b[0m         \u001b[0;32mreturn\u001b[0m \u001b[0mcast\u001b[0m\u001b[0;34m(\u001b[0m\u001b[0mF\u001b[0m\u001b[0;34m,\u001b[0m \u001b[0mwrapper\u001b[0m\u001b[0;34m)\u001b[0m\u001b[0;34m\u001b[0m\u001b[0;34m\u001b[0m\u001b[0m\n",
            "\u001b[0;32m/usr/local/lib/python3.8/dist-packages/pandas_datareader/data.py\u001b[0m in \u001b[0;36mDataReader\u001b[0;34m(name, data_source, start, end, retry_count, pause, session, api_key)\u001b[0m\n\u001b[1;32m    374\u001b[0m \u001b[0;34m\u001b[0m\u001b[0m\n\u001b[1;32m    375\u001b[0m     \u001b[0;32mif\u001b[0m \u001b[0mdata_source\u001b[0m \u001b[0;34m==\u001b[0m \u001b[0;34m\"yahoo\"\u001b[0m\u001b[0;34m:\u001b[0m\u001b[0;34m\u001b[0m\u001b[0;34m\u001b[0m\u001b[0m\n\u001b[0;32m--> 376\u001b[0;31m         return YahooDailyReader(\n\u001b[0m\u001b[1;32m    377\u001b[0m             \u001b[0msymbols\u001b[0m\u001b[0;34m=\u001b[0m\u001b[0mname\u001b[0m\u001b[0;34m,\u001b[0m\u001b[0;34m\u001b[0m\u001b[0;34m\u001b[0m\u001b[0m\n\u001b[1;32m    378\u001b[0m             \u001b[0mstart\u001b[0m\u001b[0;34m=\u001b[0m\u001b[0mstart\u001b[0m\u001b[0;34m,\u001b[0m\u001b[0;34m\u001b[0m\u001b[0;34m\u001b[0m\u001b[0m\n",
            "\u001b[0;32m/usr/local/lib/python3.8/dist-packages/pandas_datareader/base.py\u001b[0m in \u001b[0;36mread\u001b[0;34m(self)\u001b[0m\n\u001b[1;32m    256\u001b[0m             \u001b[0mdf\u001b[0m \u001b[0;34m=\u001b[0m \u001b[0mself\u001b[0m\u001b[0;34m.\u001b[0m\u001b[0m_dl_mult_symbols\u001b[0m\u001b[0;34m(\u001b[0m\u001b[0mself\u001b[0m\u001b[0;34m.\u001b[0m\u001b[0msymbols\u001b[0m\u001b[0;34m.\u001b[0m\u001b[0mindex\u001b[0m\u001b[0;34m)\u001b[0m\u001b[0;34m\u001b[0m\u001b[0;34m\u001b[0m\u001b[0m\n\u001b[1;32m    257\u001b[0m         \u001b[0;32melse\u001b[0m\u001b[0;34m:\u001b[0m\u001b[0;34m\u001b[0m\u001b[0;34m\u001b[0m\u001b[0m\n\u001b[0;32m--> 258\u001b[0;31m             \u001b[0mdf\u001b[0m \u001b[0;34m=\u001b[0m \u001b[0mself\u001b[0m\u001b[0;34m.\u001b[0m\u001b[0m_dl_mult_symbols\u001b[0m\u001b[0;34m(\u001b[0m\u001b[0mself\u001b[0m\u001b[0;34m.\u001b[0m\u001b[0msymbols\u001b[0m\u001b[0;34m)\u001b[0m\u001b[0;34m\u001b[0m\u001b[0;34m\u001b[0m\u001b[0m\n\u001b[0m\u001b[1;32m    259\u001b[0m         \u001b[0;32mreturn\u001b[0m \u001b[0mdf\u001b[0m\u001b[0;34m\u001b[0m\u001b[0;34m\u001b[0m\u001b[0m\n\u001b[1;32m    260\u001b[0m \u001b[0;34m\u001b[0m\u001b[0m\n",
            "\u001b[0;32m/usr/local/lib/python3.8/dist-packages/pandas_datareader/base.py\u001b[0m in \u001b[0;36m_dl_mult_symbols\u001b[0;34m(self, symbols)\u001b[0m\n\u001b[1;32m    275\u001b[0m         \u001b[0;32mif\u001b[0m \u001b[0mlen\u001b[0m\u001b[0;34m(\u001b[0m\u001b[0mpassed\u001b[0m\u001b[0;34m)\u001b[0m \u001b[0;34m==\u001b[0m \u001b[0;36m0\u001b[0m\u001b[0;34m:\u001b[0m\u001b[0;34m\u001b[0m\u001b[0;34m\u001b[0m\u001b[0m\n\u001b[1;32m    276\u001b[0m             \u001b[0mmsg\u001b[0m \u001b[0;34m=\u001b[0m \u001b[0;34m\"No data fetched using {0!r}\"\u001b[0m\u001b[0;34m\u001b[0m\u001b[0;34m\u001b[0m\u001b[0m\n\u001b[0;32m--> 277\u001b[0;31m             \u001b[0;32mraise\u001b[0m \u001b[0mRemoteDataError\u001b[0m\u001b[0;34m(\u001b[0m\u001b[0mmsg\u001b[0m\u001b[0;34m.\u001b[0m\u001b[0mformat\u001b[0m\u001b[0;34m(\u001b[0m\u001b[0mself\u001b[0m\u001b[0;34m.\u001b[0m\u001b[0m__class__\u001b[0m\u001b[0;34m.\u001b[0m\u001b[0m__name__\u001b[0m\u001b[0;34m)\u001b[0m\u001b[0;34m)\u001b[0m\u001b[0;34m\u001b[0m\u001b[0;34m\u001b[0m\u001b[0m\n\u001b[0m\u001b[1;32m    278\u001b[0m         \u001b[0;32mtry\u001b[0m\u001b[0;34m:\u001b[0m\u001b[0;34m\u001b[0m\u001b[0;34m\u001b[0m\u001b[0m\n\u001b[1;32m    279\u001b[0m             \u001b[0;32mif\u001b[0m \u001b[0mlen\u001b[0m\u001b[0;34m(\u001b[0m\u001b[0mstocks\u001b[0m\u001b[0;34m)\u001b[0m \u001b[0;34m>\u001b[0m \u001b[0;36m0\u001b[0m \u001b[0;32mand\u001b[0m \u001b[0mlen\u001b[0m\u001b[0;34m(\u001b[0m\u001b[0mfailed\u001b[0m\u001b[0;34m)\u001b[0m \u001b[0;34m>\u001b[0m \u001b[0;36m0\u001b[0m \u001b[0;32mand\u001b[0m \u001b[0mlen\u001b[0m\u001b[0;34m(\u001b[0m\u001b[0mpassed\u001b[0m\u001b[0;34m)\u001b[0m \u001b[0;34m>\u001b[0m \u001b[0;36m0\u001b[0m\u001b[0;34m:\u001b[0m\u001b[0;34m\u001b[0m\u001b[0;34m\u001b[0m\u001b[0m\n",
            "\u001b[0;31mRemoteDataError\u001b[0m: No data fetched using 'YahooDailyReader'"
          ]
        }
      ],
      "source": [
        "!pip install pandas_datareader\n",
        "import pandas as pd\n",
        "import pandas_datareader as web\n",
        "import datetime\n",
        "import matplotlib.pyplot as plt\n",
        "\n",
        "\n",
        "start = datetime.datetime(2021, 1, 1)\n",
        "end = datetime.datetime(2021, 12, 31)\n",
        "\n",
        "stocks = [\"AAPL\", \"MSFT\", \"GOOG\"]\n",
        "df = web.DataReader(stocks, 'yahoo', start, end)['Adj Close']\n",
        "\n",
        "df.plot(figsize=(15, 7))\n",
        "plt.title('Stock Prices of Apple, Microsoft, and Google in 2021')\n",
        "plt.xlabel('Date')\n",
        "plt.ylabel('Stock Price (USD)')\n",
        "plt.legend(symbols)\n",
        "plt.show()\n"
      ]
    },
    {
      "cell_type": "markdown",
      "id": "85e27774",
      "metadata": {
        "id": "85e27774"
      },
      "source": [
        "## 4.3.5 Задание"
      ]
    },
    {
      "cell_type": "code",
      "execution_count": null,
      "id": "82a988fa",
      "metadata": {
        "id": "82a988fa",
        "outputId": "f71477a9-c66c-4ccc-e20d-ede0434b0a1d"
      },
      "outputs": [
        {
          "name": "stdout",
          "output_type": "stream",
          "text": [
            "Enter x: 1\n",
            "Enter y: 1\n",
            "Enter operator (+, -, *, /, e^(x+y), sin(x+y), cos(x+y), x^y): +\n",
            "Result:  2.0\n"
          ]
        }
      ],
      "source": [
        "import math\n",
        "\n",
        "def calculator(x, y, operator):\n",
        "    if operator == '+':\n",
        "        return x + y\n",
        "    elif operator == '-':\n",
        "        return x - y\n",
        "    elif operator == '*':\n",
        "        return x * y\n",
        "    elif operator == '/':\n",
        "        return x / y\n",
        "    elif operator == 'e^(x+y)':\n",
        "        return math.exp(x + y)\n",
        "    elif operator == 'sin(x+y)':\n",
        "        return math.sin(x + y)\n",
        "    elif operator == 'cos(x+y)':\n",
        "        return math.cos(x + y)\n",
        "    elif operator == 'x^y':\n",
        "        return x ** y\n",
        "    else:\n",
        "        return \"Invalid operator\"\n",
        "\n",
        "x = float(input(\"Enter x: \"))\n",
        "y = float(input(\"Enter y: \"))\n",
        "operator = input(\"Enter operator (+, -, *, /, e^(x+y), sin(x+y), cos(x+y), x^y): \")\n",
        "\n",
        "print(\"Result: \", calculator(x, y, operator))"
      ]
    },
    {
      "cell_type": "markdown",
      "source": [
        "# Рабочая тетрадь № 2"
      ],
      "metadata": {
        "id": "gQWw8rK6ZP2k"
      },
      "id": "gQWw8rK6ZP2k"
    },
    {
      "cell_type": "markdown",
      "id": "96b2bfa8",
      "metadata": {
        "id": "96b2bfa8"
      },
      "source": [
        "## 1.3.1 Задание"
      ]
    },
    {
      "cell_type": "code",
      "execution_count": null,
      "id": "1fe465ab",
      "metadata": {
        "id": "1fe465ab",
        "outputId": "a4547747-2a4b-47e9-ba80-169af4b0bb2d"
      },
      "outputs": [
        {
          "name": "stdout",
          "output_type": "stream",
          "text": [
            "[[1. 0. 1. 0. 1. 0. 1. 0.]\n",
            " [1. 0. 1. 0. 1. 0. 1. 0.]\n",
            " [1. 0. 1. 0. 1. 0. 1. 0.]\n",
            " [1. 0. 1. 0. 1. 0. 1. 0.]\n",
            " [1. 0. 1. 0. 1. 0. 1. 0.]\n",
            " [1. 0. 1. 0. 1. 0. 1. 0.]\n",
            " [1. 0. 1. 0. 1. 0. 1. 0.]\n",
            " [1. 0. 1. 0. 1. 0. 1. 0.]]\n"
          ]
        }
      ],
      "source": [
        "import numpy as ny\n",
        "a = ny.zeros(64)\n",
        "a[::2] = 1\n",
        "a = a.reshape(8,8)\n",
        "print(a)"
      ]
    },
    {
      "cell_type": "code",
      "execution_count": null,
      "id": "2a68b7c5",
      "metadata": {
        "id": "2a68b7c5"
      },
      "outputs": [],
      "source": []
    }
  ],
  "metadata": {
    "kernelspec": {
      "display_name": "Python 3 (ipykernel)",
      "language": "python",
      "name": "python3"
    },
    "language_info": {
      "codemirror_mode": {
        "name": "ipython",
        "version": 3
      },
      "file_extension": ".py",
      "mimetype": "text/x-python",
      "name": "python",
      "nbconvert_exporter": "python",
      "pygments_lexer": "ipython3",
      "version": "3.9.13"
    },
    "colab": {
      "provenance": [],
      "include_colab_link": true
    }
  },
  "nbformat": 4,
  "nbformat_minor": 5
}