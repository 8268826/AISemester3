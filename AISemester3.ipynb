{
  "cells": [
    {
      "cell_type": "markdown",
      "metadata": {
        "id": "view-in-github",
        "colab_type": "text"
      },
      "source": [
        "<a href=\"https://colab.research.google.com/github/8268826/AISemester3/blob/main/AISemester3.ipynb\" target=\"_parent\"><img src=\"https://colab.research.google.com/assets/colab-badge.svg\" alt=\"Open In Colab\"/></a>"
      ]
    },
    {
      "cell_type": "markdown",
      "source": [
        "# Рабочая тетрадь № 1"
      ],
      "metadata": {
        "id": "iHB2zKViYvcB"
      },
      "id": "iHB2zKViYvcB"
    },
    {
      "cell_type": "markdown",
      "id": "47ef04c3",
      "metadata": {
        "id": "47ef04c3"
      },
      "source": [
        "## 1.3 Задание"
      ]
    },
    {
      "cell_type": "code",
      "execution_count": null,
      "id": "eee3273b",
      "metadata": {
        "id": "eee3273b",
        "outputId": "d40804e5-365b-426f-f8cb-a60b55a86d7b"
      },
      "outputs": [
        {
          "name": "stdout",
          "output_type": "stream",
          "text": [
            "True | <class 'bool'> \n",
            " {8, 1, 3, 7} | <class 'set'> \n",
            " {2, 'apple', 4, 5, 10} | <class 'set'> \n",
            " set() | <class 'set'> \n",
            " ('Антонова Антонина', 34, 'ж') | <class 'tuple'> \n",
            " type | <class 'str'> \n",
            " [1, 'title', 2, 'content'] | <class 'list'>\n"
          ]
        }
      ],
      "source": [
        "x = 5 >= 2\n",
        "A = {1,3,7,8}\n",
        "B = {2, 4, 5, 10, 'apple'}\n",
        "C = A & B\n",
        "df = 'Антонова Антонина', 34, 'ж'\n",
        "z = 'type'\n",
        "D = [1, 'title', 2, 'content']\n",
        "\n",
        "print(x, '|', type(x), '\\n', A, '|', type(A), '\\n',\n",
        "      B, '|', type(B), '\\n', C, '|', type(C), '\\n', \n",
        "      df, '|', type(df), '\\n', z, '|', type(z), '\\n',\n",
        "      D, '|', type(D))"
      ]
    },
    {
      "cell_type": "markdown",
      "id": "a6029162",
      "metadata": {
        "id": "a6029162"
      },
      "source": [
        "## 2.3. Задание"
      ]
    },
    {
      "cell_type": "code",
      "execution_count": null,
      "id": "73df5013",
      "metadata": {
        "id": "73df5013",
        "outputId": "3a7d8424-e32c-4316-8a13-d036916c3c98"
      },
      "outputs": [
        {
          "name": "stdout",
          "output_type": "stream",
          "text": [
            "-infinity <  -9  < -5\n"
          ]
        }
      ],
      "source": [
        "x = 4\n",
        "if x < -5:\n",
        "    print(\"-infinity < \",x,\" < -5\")\n",
        "elif x > 5:\n",
        "    print(\"5 < \",x,\" < infinity\")\n",
        "else:\n",
        "    print(\"-5 < \",x ,\" < 5\")"
      ]
    },
    {
      "cell_type": "markdown",
      "id": "8e22cf24",
      "metadata": {
        "id": "8e22cf24"
      },
      "source": [
        "## 3.3.1 Задание"
      ]
    },
    {
      "cell_type": "code",
      "execution_count": null,
      "id": "160e7a56",
      "metadata": {
        "id": "160e7a56",
        "outputId": "5f30ae3e-9aff-48ba-f9b9-aa997f542bc0"
      },
      "outputs": [
        {
          "name": "stdout",
          "output_type": "stream",
          "text": [
            "10\n",
            "7\n",
            "4\n",
            "1\n"
          ]
        }
      ],
      "source": [
        "x = 10\n",
        "while x >= 1:\n",
        "    print(x)\n",
        "    x -= 3"
      ]
    },
    {
      "cell_type": "markdown",
      "id": "2ecc0a50",
      "metadata": {
        "id": "2ecc0a50"
      },
      "source": [
        "## 3.3.2 Задание"
      ]
    },
    {
      "cell_type": "code",
      "execution_count": null,
      "id": "34d1a600",
      "metadata": {
        "id": "34d1a600",
        "outputId": "979812fe-a0e7-481d-cdc7-d1aeef1f28c8"
      },
      "outputs": [
        {
          "name": "stdout",
          "output_type": "stream",
          "text": [
            "['hands', 'feet', 'nose', 'mouth']\n"
          ]
        }
      ],
      "source": [
        "humanParts = ['hands','feet','nose','mouth']\n",
        "print(humanParts)"
      ]
    },
    {
      "cell_type": "markdown",
      "id": "f27c0ba4",
      "metadata": {
        "id": "f27c0ba4"
      },
      "source": [
        "## 3.3.3 Задание"
      ]
    },
    {
      "cell_type": "code",
      "execution_count": null,
      "id": "afa0a91f",
      "metadata": {
        "id": "afa0a91f",
        "outputId": "b85007e3-1048-4718-c078-1b86b33f7173"
      },
      "outputs": [
        {
          "name": "stdout",
          "output_type": "stream",
          "text": [
            "2\n",
            "3\n",
            "4\n",
            "5\n",
            "6\n",
            "7\n",
            "8\n",
            "9\n",
            "10\n",
            "11\n",
            "12\n",
            "13\n",
            "14\n"
          ]
        }
      ],
      "source": [
        "for number in range(2,15,1):\n",
        "    print(number)"
      ]
    },
    {
      "cell_type": "markdown",
      "id": "eb8f9eec",
      "metadata": {
        "id": "eb8f9eec"
      },
      "source": [
        "## 3.3.4 Задание"
      ]
    },
    {
      "cell_type": "code",
      "execution_count": null,
      "id": "47f76d63",
      "metadata": {
        "id": "47f76d63",
        "outputId": "d8f82f1a-7011-40f9-b20a-202302ee3e8b"
      },
      "outputs": [
        {
          "name": "stdout",
          "output_type": "stream",
          "text": [
            "105\n",
            "80\n",
            "55\n",
            "30\n",
            "5\n"
          ]
        }
      ],
      "source": [
        "arr = range(5,106,25)\n",
        "arr = arr[::-1]\n",
        "for value in arr:\n",
        "    print(value)"
      ]
    },
    {
      "cell_type": "markdown",
      "id": "7174b858",
      "metadata": {
        "id": "7174b858"
      },
      "source": [
        "## 3.3.5 Задание"
      ]
    },
    {
      "cell_type": "code",
      "execution_count": null,
      "id": "a1147b4b",
      "metadata": {
        "id": "a1147b4b",
        "outputId": "eeb42a43-7702-43f3-b20e-03b168cf5013"
      },
      "outputs": [
        {
          "name": "stdout",
          "output_type": "stream",
          "text": [
            "[8, 1, 6, 3, 4, 5, 2, 7, 0, 9]\n"
          ]
        }
      ],
      "source": [
        "arr = [0,1,2,3,4,5,6,7,8,9]\n",
        "tmp = arr[::2]\n",
        "tmp = tmp[::-1]\n",
        "arr[::2] = tmp\n",
        "print(arr)"
      ]
    },
    {
      "cell_type": "markdown",
      "id": "88e1b1b7",
      "metadata": {
        "id": "88e1b1b7"
      },
      "source": [
        "## 4.3.1 Задание"
      ]
    },
    {
      "cell_type": "code",
      "execution_count": null,
      "id": "87c56e98",
      "metadata": {
        "id": "87c56e98",
        "outputId": "60f6d378-b521-4967-828e-0e736fa16a36"
      },
      "outputs": [
        {
          "data": {
            "text/plain": [
              "<matplotlib.collections.PathCollection at 0x205a2f40520>"
            ]
          },
          "execution_count": 6,
          "metadata": {},
          "output_type": "execute_result"
        },
        {
          "data": {
            "image/png": "[encoded data removed]",
            "text/plain": [
              "<Figure size 640x480 with 1 Axes>"
            ]
          },
          "metadata": {},
          "output_type": "display_data"
        }
      ],
      "source": [
        "import numpy as np\n",
        "import random as rand\n",
        "from matplotlib import pyplot as plt\n",
        "array = ['1','2','3','4','5','6','7','8','9','10']\n",
        "values = np.empty(10,dtype = float)\n",
        "for i in range(10):\n",
        "  values[i] = rand.uniform(0,1)\n",
        "mean = np.mean(values)\n",
        "median = np.median(values)\n",
        "plt.grid()\n",
        "plt.scatter(array,values)"
      ]
    },
    {
      "cell_type": "markdown",
      "id": "ffd6bbdd",
      "metadata": {
        "id": "ffd6bbdd"
      },
      "source": [
        "## 4.3.2 Задание"
      ]
    },
    {
      "cell_type": "code",
      "execution_count": null,
      "id": "43c7fc81",
      "metadata": {
        "id": "43c7fc81",
        "outputId": "a2774ad2-1e9b-4d6d-e8a5-96c0da8b8104"
      },
      "outputs": [
        {
          "data": {
            "text/plain": [
              "<matplotlib.collections.PathCollection at 0x1900a28e400>"
            ]
          },
          "execution_count": 17,
          "metadata": {},
          "output_type": "execute_result"
        },
        {
          "data": {
            "image/png": "[encoded data removed]",
            "text/plain": [
              "<Figure size 640x480 with 1 Axes>"
            ]
          },
          "metadata": {},
          "output_type": "display_data"
        }
      ],
      "source": [
        "import numpy as np\n",
        "import matplotlib.pyplot as plt\n",
        "from numpy import trapz\n",
        "x = np.arange(1,10,1)\n",
        "y = np.sqrt(1+np.exp(np.sqrt(x))+np.cos(np.power(x,2)))/np.abs(1 - np.power(np.sin(x),3)) + np.log2(np.abs(2*x))\n",
        "plt.grid()\n",
        "plt.plot(x,y)\n",
        "plt.scatter(x[:5],y[:5])"
      ]
    },
    {
      "cell_type": "markdown",
      "id": "e7521ee6",
      "metadata": {
        "id": "e7521ee6"
      },
      "source": [
        "## 4.3.3 Задание"
      ]
    },
    {
      "cell_type": "code",
      "execution_count": null,
      "id": "7f28e406",
      "metadata": {
        "id": "7f28e406",
        "outputId": "06d55071-8770-4404-ddd5-5b7698189176",
        "colab": {
          "base_uri": "https://localhost:8080/",
          "height": 282
        }
      },
      "outputs": [
        {
          "output_type": "display_data",
          "data": {
            "text/plain": [
              "<Figure size 432x288 with 1 Axes>"
            ],
            "image/png": "[encoded data removed]"
          },
          "metadata": {
            "needs_background": "light"
          }
        },
        {
          "output_type": "stream",
          "name": "stdout",
          "text": [
            "5.742759112561014\n"
          ]
        }
      ],
      "source": [
        "import numpy as np\n",
        "import matplotlib.pyplot as plt\n",
        "from numpy import trapz\n",
        "\n",
        "def funct():\n",
        "    h = []\n",
        "    w = []\n",
        "    for x in range(0, 10):\n",
        "        h.append(abs(np.cos((x * np.e) ** (np.cos(x) + np.log1p(x)))))\n",
        "        w.append(x)\n",
        "    plt.grid()\n",
        "    plt.plot(w, h, c=\"r\")\n",
        "    plt.fill_between(w, h)\n",
        "    plt.show()\n",
        "    area = trapz(h)\n",
        "    print(area)\n",
        "\n",
        "funct()"
      ]
    },
    {
      "cell_type": "markdown",
      "id": "69f61b18",
      "metadata": {
        "id": "69f61b18"
      },
      "source": [
        "## 4.3.4 Задание"
      ]
    },
    {
      "cell_type": "code",
      "execution_count": null,
      "id": "6b310901",
      "metadata": {
        "colab": {
          "base_uri": "https://localhost:8080/",
          "height": 903
        },
        "id": "6b310901",
        "outputId": "b6504ce4-9449-4309-e20b-d19083e2f02b"
      },
      "outputs": [
        {
          "output_type": "display_data",
          "data": {
            "text/plain": [
              "<Figure size 432x288 with 1 Axes>"
            ],
            "image/png": "[encoded data removed]"
          },
          "metadata": {
            "needs_background": "light"
          }
        },
        {
          "output_type": "display_data",
          "data": {
            "text/plain": [
              "<Figure size 432x288 with 1 Axes>"
            ],
            "image/png": "[encoded data removed]"
          },
          "metadata": {
            "needs_background": "light"
          }
        },
        {
          "output_type": "display_data",
          "data": {
            "text/plain": [
              "<Figure size 432x288 with 1 Axes>"
            ],
            "image/png": "[encoded data removed]"
          },
          "metadata": {
            "needs_background": "light"
          }
        },
        {
          "output_type": "stream",
          "name": "stdout",
          "text": [
            "Стоимость акций Apple с начала с 1 января 2021 года по 31 декабря 2021 года выросла на 34.56 %\n",
            "Стоимость акций Microsoft с начала с 1 января 2021 года по 31 декабря 2021 года выросла на 44.99 %\n",
            "Стоимость акций Google с начала с 1 января 2021 года по 31 декабря 2021 года выросла на 58.53 %\n"
          ]
        }
      ],
      "source": [
        "import numpy as np\n",
        "\n",
        "\n",
        "def funct():\n",
        "    apple_cost = [131.96, 121.26, 122.15, 131.46, 124.61, 136.96, 145.86, 151.83, 141.50, 149.80, 165.30, 177.57]\n",
        "    apple_avg = np.average(apple_cost)\n",
        "    apple_avg_arr = [apple_avg] * 12\n",
        "    microsoft_cost = [231.96, 232.38, 235.77, 252.18, 249.68, 270.90, 284.91, 301.88, 281.92, 331.62, 330.59, 336.32]\n",
        "    microsoft_avg = np.average(microsoft_cost)\n",
        "    microsoft_avg_arr = [microsoft_avg] * 12\n",
        "    google_cost = [91.37, 101.10, 103.13, 117.68, 117.84, 122.09, 134.73, 144.70, 133.68, 148.05, 141.90, 144.85]\n",
        "    google_avg = np.average(google_cost)\n",
        "    google_avg_arr = [google_avg] * 12\n",
        "    months = [\"Jan\", \"Feb\", \"Mar\", \"Apr\", \"May\", \"June\", \"July\", \"Aug\", \"Sep\", \"Oct\", \"Nov\", \"Dec\"]\n",
        "    plt.plot(months, apple_cost, months, apple_avg_arr)\n",
        "    plt.xlabel(\"Months\")\n",
        "    plt.ylabel(\"Share price $\")\n",
        "    plt.title(\"Apple\")\n",
        "    plt.show()\n",
        "    plt.plot(months, microsoft_cost, months, microsoft_avg_arr)\n",
        "    plt.xlabel(\"Months\")\n",
        "    plt.ylabel(\"Share price $\")\n",
        "    plt.title(\"Microsoft\")\n",
        "    plt.show()\n",
        "    plt.plot(months, google_cost, months, google_avg_arr)\n",
        "    plt.xlabel(\"Months\")\n",
        "    plt.ylabel(\"Share price $\")\n",
        "    plt.title(\"Google\")\n",
        "    plt.show()\n",
        "    print(\"Стоимость акций Apple с начала с 1 января 2021 года по 31 декабря 2021 года выросла на\",\n",
        "          round(apple_cost[11] / (apple_cost[0] / 100) - 100, 2), \"%\")\n",
        "    print(\"Стоимость акций Microsoft с начала с 1 января 2021 года по 31 декабря 2021 года выросла на\",\n",
        "          round(microsoft_cost[11] / (microsoft_cost[0] / 100) - 100, 2), \"%\")\n",
        "    print(\"Стоимость акций Google с начала с 1 января 2021 года по 31 декабря 2021 года выросла на\",\n",
        "          round(google_cost[11] / (google_cost[0] / 100) - 100, 2), \"%\")\n",
        "\n",
        "funct()\n"
      ]
    },
    {
      "cell_type": "markdown",
      "id": "85e27774",
      "metadata": {
        "id": "85e27774"
      },
      "source": [
        "## 4.3.5 Задание"
      ]
    },
    {
      "cell_type": "code",
      "execution_count": null,
      "id": "82a988fa",
      "metadata": {
        "id": "82a988fa",
        "outputId": "f71477a9-c66c-4ccc-e20d-ede0434b0a1d"
      },
      "outputs": [
        {
          "name": "stdout",
          "output_type": "stream",
          "text": [
            "Enter x: 1\n",
            "Enter y: 1\n",
            "Enter operator (+, -, *, /, e^(x+y), sin(x+y), cos(x+y), x^y): +\n",
            "Result:  2.0\n"
          ]
        }
      ],
      "source": [
        "import math\n",
        "\n",
        "def calculator(x, y, operator):\n",
        "    if operator == '+':\n",
        "        return x + y\n",
        "    elif operator == '-':\n",
        "        return x - y\n",
        "    elif operator == '*':\n",
        "        return x * y\n",
        "    elif operator == '/':\n",
        "        return x / y\n",
        "    elif operator == 'e^(x+y)':\n",
        "        return math.exp(x + y)\n",
        "    elif operator == 'sin(x+y)':\n",
        "        return math.sin(x + y)\n",
        "    elif operator == 'cos(x+y)':\n",
        "        return math.cos(x + y)\n",
        "    elif operator == 'x^y':\n",
        "        return x ** y\n",
        "    else:\n",
        "        return \"Invalid operator\"\n",
        "\n",
        "x = float(input(\"Enter x: \"))\n",
        "y = float(input(\"Enter y: \"))\n",
        "operator = input(\"Enter operator (+, -, *, /, e^(x+y), sin(x+y), cos(x+y), x^y): \")\n",
        "\n",
        "print(\"Result: \", calculator(x, y, operator))"
      ]
    },
    {
      "cell_type": "markdown",
      "source": [
        "# Рабочая тетрадь № 2"
      ],
      "metadata": {
        "id": "gQWw8rK6ZP2k"
      },
      "id": "gQWw8rK6ZP2k"
    },
    {
      "cell_type": "markdown",
      "source": [
        "## 1.1. Теоретический материал – Библиотека NumPy"
      ],
      "metadata": {
        "id": "hPxxaw7aLTCZ"
      },
      "id": "hPxxaw7aLTCZ"
    },
    {
      "cell_type": "markdown",
      "id": "96b2bfa8",
      "metadata": {
        "id": "96b2bfa8"
      },
      "source": [
        "### 1.3.1 Задание"
      ]
    },
    {
      "cell_type": "code",
      "execution_count": null,
      "id": "1fe465ab",
      "metadata": {
        "id": "1fe465ab",
        "outputId": "46486c9b-13fe-469a-de2d-9b3eeb964b3a",
        "colab": {
          "base_uri": "https://localhost:8080/"
        }
      },
      "outputs": [
        {
          "output_type": "stream",
          "name": "stdout",
          "text": [
            "[[1 0 1 0 1 0 1 0]\n",
            " [0 1 0 1 0 1 0 1]\n",
            " [1 0 1 0 1 0 1 0]\n",
            " [0 1 0 1 0 1 0 1]\n",
            " [1 0 1 0 1 0 1 0]\n",
            " [0 1 0 1 0 1 0 1]\n",
            " [1 0 1 0 1 0 1 0]\n",
            " [0 1 0 1 0 1 0 1]]\n"
          ]
        }
      ],
      "source": [
        "import numpy as np\n",
        "\n",
        "matrix = np.zeros((8, 8), dtype=int) \n",
        "matrix[::2, ::2] = 1  \n",
        "matrix[1::2, 1::2] = 1  \n",
        "\n",
        "print(matrix)\n"
      ]
    },
    {
      "cell_type": "markdown",
      "source": [
        "### 1.3.2 Задание"
      ],
      "metadata": {
        "id": "jHOPWbSNKt9S"
      },
      "id": "jHOPWbSNKt9S"
    },
    {
      "cell_type": "code",
      "source": [
        "import numpy as np\n",
        "\n",
        "matrix = np.zeros((5, 5))\n",
        "for i in range(5):\n",
        "    matrix[i] = np.arange(i, i+5)\n",
        "\n",
        "print(matrix)"
      ],
      "metadata": {
        "colab": {
          "base_uri": "https://localhost:8080/"
        },
        "id": "qDNUTVviK5PK",
        "outputId": "ba81f7c7-d2e7-4109-f670-43160de65e71"
      },
      "id": "qDNUTVviK5PK",
      "execution_count": null,
      "outputs": [
        {
          "output_type": "stream",
          "name": "stdout",
          "text": [
            "[[0. 1. 2. 3. 4.]\n",
            " [1. 2. 3. 4. 5.]\n",
            " [2. 3. 4. 5. 6.]\n",
            " [3. 4. 5. 6. 7.]\n",
            " [4. 5. 6. 7. 8.]]\n"
          ]
        }
      ]
    },
    {
      "cell_type": "markdown",
      "source": [
        "### 1.3.3 Задание"
      ],
      "metadata": {
        "id": "ds0ouuU1KvrJ"
      },
      "id": "ds0ouuU1KvrJ"
    },
    {
      "cell_type": "code",
      "source": [
        "import numpy as np\n",
        "\n",
        "array = np.random.rand(3, 3, 3)\n",
        "\n",
        "print(array)\n"
      ],
      "metadata": {
        "colab": {
          "base_uri": "https://localhost:8080/"
        },
        "id": "IePspcogLAeL",
        "outputId": "52fb31b5-59b5-47c0-a9e1-98e182bdf27e"
      },
      "id": "IePspcogLAeL",
      "execution_count": null,
      "outputs": [
        {
          "output_type": "stream",
          "name": "stdout",
          "text": [
            "[[[0.42907138 0.7850458  0.81819498]\n",
            "  [0.31947558 0.04085329 0.75920899]\n",
            "  [0.54402161 0.84395062 0.04404723]]\n",
            "\n",
            " [[0.37469089 0.27515908 0.06456881]\n",
            "  [0.42830758 0.21142784 0.6657062 ]\n",
            "  [0.13381757 0.73868522 0.05174635]]\n",
            "\n",
            " [[0.39916893 0.66721482 0.5448334 ]\n",
            "  [0.80024287 0.5337276  0.28494709]\n",
            "  [0.12536055 0.05043812 0.11436053]]]\n"
          ]
        }
      ]
    },
    {
      "cell_type": "markdown",
      "source": [
        "### 1.3.4 Задание"
      ],
      "metadata": {
        "id": "PYN7wyNhKxo3"
      },
      "id": "PYN7wyNhKxo3"
    },
    {
      "cell_type": "code",
      "source": [
        "import numpy as np\n",
        "\n",
        "n_rows = 5\n",
        "n_cols = 5\n",
        "\n",
        "matrix = np.zeros((n_rows, n_cols))\n",
        "matrix[0, :] = 1\n",
        "matrix[-1, :] = 1\n",
        "matrix[:, 0] = 1\n",
        "matrix[:, -1] = 1\n",
        "\n",
        "print(matrix)\n"
      ],
      "metadata": {
        "colab": {
          "base_uri": "https://localhost:8080/"
        },
        "id": "j8YiFL9eLBru",
        "outputId": "c4c316c1-4e15-4034-fb9b-f155477616b7"
      },
      "id": "j8YiFL9eLBru",
      "execution_count": null,
      "outputs": [
        {
          "output_type": "stream",
          "name": "stdout",
          "text": [
            "[[1. 1. 1. 1. 1.]\n",
            " [1. 0. 0. 0. 1.]\n",
            " [1. 0. 0. 0. 1.]\n",
            " [1. 0. 0. 0. 1.]\n",
            " [1. 1. 1. 1. 1.]]\n"
          ]
        }
      ]
    },
    {
      "cell_type": "markdown",
      "source": [
        "### 1.3.5 Задание"
      ],
      "metadata": {
        "id": "ztEEOGM8Kz32"
      },
      "id": "ztEEOGM8Kz32"
    },
    {
      "cell_type": "code",
      "source": [
        "import numpy as np\n",
        "\n",
        "arr = np.array([5, 2, 8, 1, 9, 3])\n",
        "sorted_arr = np.sort(arr)[::-1]\n",
        "\n",
        "print(sorted_arr)\n"
      ],
      "metadata": {
        "colab": {
          "base_uri": "https://localhost:8080/"
        },
        "id": "c61IuXlELFLa",
        "outputId": "8b9ca520-2780-4147-e65c-fcab5698382d"
      },
      "id": "c61IuXlELFLa",
      "execution_count": null,
      "outputs": [
        {
          "output_type": "stream",
          "name": "stdout",
          "text": [
            "[9 8 5 3 2 1]\n"
          ]
        }
      ]
    },
    {
      "cell_type": "markdown",
      "source": [
        "### 1.3.6 Задание"
      ],
      "metadata": {
        "id": "ywZrrKARK1q-"
      },
      "id": "ywZrrKARK1q-"
    },
    {
      "cell_type": "code",
      "source": [
        "import numpy as np\n",
        "\n",
        "matrix = np.array([[1, 2, 3], [4, 5, 6], [7, 8, 9]])\n",
        "\n",
        "print(matrix)\n",
        "print(\"Форма:\", matrix.shape)\n",
        "print(\"Размер:\", matrix.size)\n",
        "print(\"Размерность:\", matrix.ndim)\n"
      ],
      "metadata": {
        "colab": {
          "base_uri": "https://localhost:8080/"
        },
        "id": "GzKRTCQOLH6_",
        "outputId": "b7e80804-c7de-4e52-96b8-d04522967c7f"
      },
      "id": "GzKRTCQOLH6_",
      "execution_count": null,
      "outputs": [
        {
          "output_type": "stream",
          "name": "stdout",
          "text": [
            "[[1 2 3]\n",
            " [4 5 6]\n",
            " [7 8 9]]\n",
            "Форма: (3, 3)\n",
            "Размер: 9\n",
            "Размерность: 2\n"
          ]
        }
      ]
    },
    {
      "cell_type": "markdown",
      "source": [
        "## 2.1. Теоретический материал – Библиотека Pandas"
      ],
      "metadata": {
        "id": "IHjjKg0SLgmU"
      },
      "id": "IHjjKg0SLgmU"
    },
    {
      "cell_type": "markdown",
      "source": [
        "### 2.3.1 Задание"
      ],
      "metadata": {
        "id": "yZD8TAAfLjzO"
      },
      "id": "yZD8TAAfLjzO"
    },
    {
      "cell_type": "code",
      "source": [
        "import numpy as np\n",
        "\n",
        "a = np.array([1, 2, 3])\n",
        "b = np.array([4, 5, 6])\n",
        "\n",
        "distance = np.sqrt(np.sum((a - b)**2))\n",
        "\n",
        "print(distance)\n"
      ],
      "metadata": {
        "colab": {
          "base_uri": "https://localhost:8080/"
        },
        "id": "Q-Oadi2iLsNV",
        "outputId": "48d5ed1e-2e52-488e-995b-59fc2d3328d9"
      },
      "id": "Q-Oadi2iLsNV",
      "execution_count": null,
      "outputs": [
        {
          "output_type": "stream",
          "name": "stdout",
          "text": [
            "5.196152422706632\n"
          ]
        }
      ]
    },
    {
      "cell_type": "markdown",
      "source": [
        "### 2.3.2 Задание"
      ],
      "metadata": {
        "id": "bDqLdEqhLpMA"
      },
      "id": "bDqLdEqhLpMA"
    },
    {
      "cell_type": "code",
      "source": [
        "import pandas as pd\n",
        "\n",
        "url = 'https://raw.githubusercontent.com/akmand/datasets/main/wine.csv'\n",
        "dataframe = pd.read_csv(url)\n",
        "print(dataframe.head())\n"
      ],
      "metadata": {
        "colab": {
          "base_uri": "https://localhost:8080/"
        },
        "id": "ZMJUROYuLv38",
        "outputId": "eae84a8b-063d-49fc-ec78-598d15718555"
      },
      "id": "ZMJUROYuLv38",
      "execution_count": null,
      "outputs": [
        {
          "output_type": "stream",
          "name": "stdout",
          "text": [
            "       1     2     3     4    5     6     7     8     9    10    11    12  \\\n",
            "0  14.23  1.71  2.43  15.6  127  2.80  3.06  0.28  2.29  5.64  1.04  3.92   \n",
            "1  13.20  1.78  2.14  11.2  100  2.65  2.76  0.26  1.28  4.38  1.05  3.40   \n",
            "2  13.16  2.36  2.67  18.6  101  2.80  3.24  0.30  2.81  5.68  1.03  3.17   \n",
            "3  14.37  1.95  2.50  16.8  113  3.85  3.49  0.24  2.18  7.80  0.86  3.45   \n",
            "4  13.24  2.59  2.87  21.0  118  2.80  2.69  0.39  1.82  4.32  1.04  2.93   \n",
            "\n",
            "     13  y  \n",
            "0  1065  1  \n",
            "1  1050  1  \n",
            "2  1185  1  \n",
            "3  1480  1  \n",
            "4   735  1  \n"
          ]
        }
      ]
    },
    {
      "cell_type": "markdown",
      "source": [
        "### 2.3.3 Задание"
      ],
      "metadata": {
        "id": "A7XftjcQLp8n"
      },
      "id": "A7XftjcQLp8n"
    },
    {
      "cell_type": "code",
      "source": [
        "import pandas as pd\n",
        "\n",
        "url = 'https://raw.githubusercontent.com/akmand/datasets/main/wine.csv'\n",
        "dataframe = pd.read_csv(url)\n",
        "\n",
        "print(dataframe.columns)\n",
        "print(dataframe.head(2))\n",
        "print(\"\\n\")\n",
        "print(dataframe.tail(3))\n",
        "print(\"\\n\")\n",
        "print(dataframe.shape)\n",
        "print(\"\\n\")\n",
        "print(dataframe.describe())  \n",
        "print(\"\\n\")\n",
        "\n",
        "print(dataframe['1'])  \n",
        "print(\"\\n\")\n",
        "print(dataframe.iloc[2:5, 3:6]) \n",
        "print(\"\\n\")\n",
        "\n",
        "filtered_df = dataframe[dataframe['1'] > 13.0]  \n",
        "print(filtered_df.head())"
      ],
      "metadata": {
        "colab": {
          "base_uri": "https://localhost:8080/"
        },
        "id": "HHwqwRJhLzKI",
        "outputId": "751171dd-de1b-45c6-beca-b4a5b4418a2a"
      },
      "id": "HHwqwRJhLzKI",
      "execution_count": 1,
      "outputs": [
        {
          "output_type": "stream",
          "name": "stdout",
          "text": [
            "Index(['1', '2', '3', '4', '5', '6', '7', '8', '9', '10', '11', '12', '13',\n",
            "       'y'],\n",
            "      dtype='object')\n",
            "       1     2     3     4    5     6     7     8     9    10    11    12  \\\n",
            "0  14.23  1.71  2.43  15.6  127  2.80  3.06  0.28  2.29  5.64  1.04  3.92   \n",
            "1  13.20  1.78  2.14  11.2  100  2.65  2.76  0.26  1.28  4.38  1.05  3.40   \n",
            "\n",
            "     13  y  \n",
            "0  1065  1  \n",
            "1  1050  1  \n",
            "\n",
            "\n",
            "         1     2     3     4    5     6     7     8     9    10    11    12  \\\n",
            "175  13.27  4.28  2.26  20.0  120  1.59  0.69  0.43  1.35  10.2  0.59  1.56   \n",
            "176  13.17  2.59  2.37  20.0  120  1.65  0.68  0.53  1.46   9.3  0.60  1.62   \n",
            "177  14.13  4.10  2.74  24.5   96  2.05  0.76  0.56  1.35   9.2  0.61  1.60   \n",
            "\n",
            "      13  y  \n",
            "175  835  3  \n",
            "176  840  3  \n",
            "177  560  3  \n",
            "\n",
            "\n",
            "(178, 14)\n",
            "\n",
            "\n",
            "                1           2           3           4           5           6  \\\n",
            "count  178.000000  178.000000  178.000000  178.000000  178.000000  178.000000   \n",
            "mean    13.000618    2.336348    2.366517   19.494944   99.741573    2.295112   \n",
            "std      0.811827    1.117146    0.274344    3.339564   14.282484    0.625851   \n",
            "min     11.030000    0.740000    1.360000   10.600000   70.000000    0.980000   \n",
            "25%     12.362500    1.602500    2.210000   17.200000   88.000000    1.742500   \n",
            "50%     13.050000    1.865000    2.360000   19.500000   98.000000    2.355000   \n",
            "75%     13.677500    3.082500    2.557500   21.500000  107.000000    2.800000   \n",
            "max     14.830000    5.800000    3.230000   30.000000  162.000000    3.880000   \n",
            "\n",
            "                7           8           9          10          11          12  \\\n",
            "count  178.000000  178.000000  178.000000  178.000000  178.000000  178.000000   \n",
            "mean     2.029270    0.361854    1.590899    5.058090    0.957449    2.611685   \n",
            "std      0.998859    0.124453    0.572359    2.318286    0.228572    0.709990   \n",
            "min      0.340000    0.130000    0.410000    1.280000    0.480000    1.270000   \n",
            "25%      1.205000    0.270000    1.250000    3.220000    0.782500    1.937500   \n",
            "50%      2.135000    0.340000    1.555000    4.690000    0.965000    2.780000   \n",
            "75%      2.875000    0.437500    1.950000    6.200000    1.120000    3.170000   \n",
            "max      5.080000    0.660000    3.580000   13.000000    1.710000    4.000000   \n",
            "\n",
            "                13           y  \n",
            "count   178.000000  178.000000  \n",
            "mean    746.893258    1.938202  \n",
            "std     314.907474    0.775035  \n",
            "min     278.000000    1.000000  \n",
            "25%     500.500000    1.000000  \n",
            "50%     673.500000    2.000000  \n",
            "75%     985.000000    3.000000  \n",
            "max    1680.000000    3.000000  \n",
            "\n",
            "\n",
            "0      14.23\n",
            "1      13.20\n",
            "2      13.16\n",
            "3      14.37\n",
            "4      13.24\n",
            "       ...  \n",
            "173    13.71\n",
            "174    13.40\n",
            "175    13.27\n",
            "176    13.17\n",
            "177    14.13\n",
            "Name: 1, Length: 178, dtype: float64\n",
            "\n",
            "\n",
            "      4    5     6\n",
            "2  18.6  101  2.80\n",
            "3  16.8  113  3.85\n",
            "4  21.0  118  2.80\n",
            "\n",
            "\n",
            "       1     2     3     4    5     6     7     8     9    10    11    12  \\\n",
            "0  14.23  1.71  2.43  15.6  127  2.80  3.06  0.28  2.29  5.64  1.04  3.92   \n",
            "1  13.20  1.78  2.14  11.2  100  2.65  2.76  0.26  1.28  4.38  1.05  3.40   \n",
            "2  13.16  2.36  2.67  18.6  101  2.80  3.24  0.30  2.81  5.68  1.03  3.17   \n",
            "3  14.37  1.95  2.50  16.8  113  3.85  3.49  0.24  2.18  7.80  0.86  3.45   \n",
            "4  13.24  2.59  2.87  21.0  118  2.80  2.69  0.39  1.82  4.32  1.04  2.93   \n",
            "\n",
            "     13  y  \n",
            "0  1065  1  \n",
            "1  1050  1  \n",
            "2  1185  1  \n",
            "3  1480  1  \n",
            "4   735  1  \n"
          ]
        }
      ]
    },
    {
      "cell_type": "markdown",
      "source": [
        "## 3.1. Теоретический материал – Работа с числовыми данными"
      ],
      "metadata": {
        "id": "FiWkG-c8L8mN"
      },
      "id": "FiWkG-c8L8mN"
    },
    {
      "cell_type": "markdown",
      "source": [
        "### 3.3.2 Задание"
      ],
      "metadata": {
        "id": "ETL0R1rJL_O0"
      },
      "id": "ETL0R1rJL_O0"
    },
    {
      "cell_type": "code",
      "source": [
        "import pandas as pd\n",
        "from sklearn.preprocessing import MinMaxScaler, StandardScaler\n",
        "\n",
        "url = \"https://raw.githubusercontent.com/akmand/datasets/master/iris.csv\"\n",
        "df = pd.read_csv(url)\n",
        "\n",
        "X = df.drop('species', axis=1)\n",
        "y = df['species']\n",
        "\n",
        "scaler_minmax = MinMaxScaler()\n",
        "X['sepal_length_cm'] = scaler_minmax.fit_transform(X[['sepal_length_cm']])\n",
        "\n",
        "scaler_z = StandardScaler()\n",
        "X['sepal_width_cm'] = scaler_z.fit_transform(X[['sepal_width_cm']])\n",
        "\n",
        "print(X.head())\n"
      ],
      "metadata": {
        "id": "ybiqtTKwMF_q",
        "outputId": "c9b0b61f-d3d3-4652-bd62-196ce3123d50",
        "colab": {
          "base_uri": "https://localhost:8080/"
        }
      },
      "id": "ybiqtTKwMF_q",
      "execution_count": null,
      "outputs": [
        {
          "output_type": "stream",
          "name": "stdout",
          "text": [
            "   sepal_length_cm  sepal_width_cm  petal_length_cm  petal_width_cm\n",
            "0         0.222222        1.032057              1.4             0.2\n",
            "1         0.166667       -0.124958              1.4             0.2\n",
            "2         0.111111        0.337848              1.3             0.2\n",
            "3         0.083333        0.106445              1.5             0.2\n",
            "4         0.194444        1.263460              1.4             0.2\n"
          ]
        }
      ]
    }
  ],
  "metadata": {
    "kernelspec": {
      "display_name": "Python 3 (ipykernel)",
      "language": "python",
      "name": "python3"
    },
    "language_info": {
      "codemirror_mode": {
        "name": "ipython",
        "version": 3
      },
      "file_extension": ".py",
      "mimetype": "text/x-python",
      "name": "python",
      "nbconvert_exporter": "python",
      "pygments_lexer": "ipython3",
      "version": "3.9.13"
    },
    "colab": {
      "provenance": [],
      "include_colab_link": true
    }
  },
  "nbformat": 4,
  "nbformat_minor": 5
}