{
  "cells": [
    {
      "cell_type": "markdown",
      "metadata": {
        "id": "view-in-github",
        "colab_type": "text"
      },
      "source": [
        "<a href=\"https://colab.research.google.com/github/8268826/AISemester3/blob/main/AISemester3.ipynb\" target=\"_parent\"><img src=\"https://colab.research.google.com/assets/colab-badge.svg\" alt=\"Open In Colab\"/></a>"
      ]
    },
    {
      "cell_type": "markdown",
      "source": [
        "# Рабочая тетрадь № 1"
      ],
      "metadata": {
        "id": "iHB2zKViYvcB"
      },
      "id": "iHB2zKViYvcB"
    },
    {
      "cell_type": "markdown",
      "id": "47ef04c3",
      "metadata": {
        "id": "47ef04c3"
      },
      "source": [
        "## 1.3 Задание"
      ]
    },
    {
      "cell_type": "code",
      "execution_count": null,
      "id": "eee3273b",
      "metadata": {
        "id": "eee3273b",
        "outputId": "d40804e5-365b-426f-f8cb-a60b55a86d7b"
      },
      "outputs": [
        {
          "name": "stdout",
          "output_type": "stream",
          "text": [
            "True | <class 'bool'> \n",
            " {8, 1, 3, 7} | <class 'set'> \n",
            " {2, 'apple', 4, 5, 10} | <class 'set'> \n",
            " set() | <class 'set'> \n",
            " ('Антонова Антонина', 34, 'ж') | <class 'tuple'> \n",
            " type | <class 'str'> \n",
            " [1, 'title', 2, 'content'] | <class 'list'>\n"
          ]
        }
      ],
      "source": [
        "x = 5 >= 2\n",
        "A = {1,3,7,8}\n",
        "B = {2, 4, 5, 10, 'apple'}\n",
        "C = A & B\n",
        "df = 'Антонова Антонина', 34, 'ж'\n",
        "z = 'type'\n",
        "D = [1, 'title', 2, 'content']\n",
        "\n",
        "print(x, '|', type(x), '\\n', A, '|', type(A), '\\n',\n",
        "      B, '|', type(B), '\\n', C, '|', type(C), '\\n', \n",
        "      df, '|', type(df), '\\n', z, '|', type(z), '\\n',\n",
        "      D, '|', type(D))"
      ]
    },
    {
      "cell_type": "markdown",
      "id": "a6029162",
      "metadata": {
        "id": "a6029162"
      },
      "source": [
        "## 2.3. Задание"
      ]
    },
    {
      "cell_type": "code",
      "execution_count": null,
      "id": "73df5013",
      "metadata": {
        "id": "73df5013",
        "outputId": "3a7d8424-e32c-4316-8a13-d036916c3c98"
      },
      "outputs": [
        {
          "name": "stdout",
          "output_type": "stream",
          "text": [
            "-infinity <  -9  < -5\n"
          ]
        }
      ],
      "source": [
        "x = 4\n",
        "if x < -5:\n",
        "    print(\"-infinity < \",x,\" < -5\")\n",
        "elif x > 5:\n",
        "    print(\"5 < \",x,\" < infinity\")\n",
        "else:\n",
        "    print(\"-5 < \",x ,\" < 5\")"
      ]
    },
    {
      "cell_type": "markdown",
      "id": "8e22cf24",
      "metadata": {
        "id": "8e22cf24"
      },
      "source": [
        "## 3.3.1 Задание"
      ]
    },
    {
      "cell_type": "code",
      "execution_count": null,
      "id": "160e7a56",
      "metadata": {
        "id": "160e7a56",
        "outputId": "5f30ae3e-9aff-48ba-f9b9-aa997f542bc0"
      },
      "outputs": [
        {
          "name": "stdout",
          "output_type": "stream",
          "text": [
            "10\n",
            "7\n",
            "4\n",
            "1\n"
          ]
        }
      ],
      "source": [
        "x = 10\n",
        "while x >= 1:\n",
        "    print(x)\n",
        "    x -= 3"
      ]
    },
    {
      "cell_type": "markdown",
      "id": "2ecc0a50",
      "metadata": {
        "id": "2ecc0a50"
      },
      "source": [
        "## 3.3.2 Задание"
      ]
    },
    {
      "cell_type": "code",
      "execution_count": null,
      "id": "34d1a600",
      "metadata": {
        "id": "34d1a600",
        "outputId": "979812fe-a0e7-481d-cdc7-d1aeef1f28c8"
      },
      "outputs": [
        {
          "name": "stdout",
          "output_type": "stream",
          "text": [
            "['hands', 'feet', 'nose', 'mouth']\n"
          ]
        }
      ],
      "source": [
        "humanParts = ['hands','feet','nose','mouth']\n",
        "print(humanParts)"
      ]
    },
    {
      "cell_type": "markdown",
      "id": "f27c0ba4",
      "metadata": {
        "id": "f27c0ba4"
      },
      "source": [
        "## 3.3.3 Задание"
      ]
    },
    {
      "cell_type": "code",
      "execution_count": null,
      "id": "afa0a91f",
      "metadata": {
        "id": "afa0a91f",
        "outputId": "34a5ed84-dbd1-4b63-b2da-e0ead87c6eee",
        "colab": {
          "base_uri": "https://localhost:8080/"
        }
      },
      "outputs": [
        {
          "output_type": "stream",
          "name": "stdout",
          "text": [
            "2\n",
            "3\n",
            "4\n",
            "5\n",
            "6\n",
            "7\n",
            "8\n",
            "9\n",
            "10\n",
            "11\n",
            "12\n",
            "13\n",
            "14\n",
            "15\n"
          ]
        }
      ],
      "source": [
        "for number in range(2,16,1):\n",
        "    print(number)"
      ]
    },
    {
      "cell_type": "markdown",
      "id": "eb8f9eec",
      "metadata": {
        "id": "eb8f9eec"
      },
      "source": [
        "## 3.3.4 Задание"
      ]
    },
    {
      "cell_type": "code",
      "execution_count": null,
      "id": "47f76d63",
      "metadata": {
        "id": "47f76d63",
        "outputId": "d8f82f1a-7011-40f9-b20a-202302ee3e8b"
      },
      "outputs": [
        {
          "name": "stdout",
          "output_type": "stream",
          "text": [
            "105\n",
            "80\n",
            "55\n",
            "30\n",
            "5\n"
          ]
        }
      ],
      "source": [
        "arr = range(5,106,25)\n",
        "arr = arr[::-1]\n",
        "for value in arr:\n",
        "    print(value)"
      ]
    },
    {
      "cell_type": "markdown",
      "id": "7174b858",
      "metadata": {
        "id": "7174b858"
      },
      "source": [
        "## 3.3.5 Задание"
      ]
    },
    {
      "cell_type": "code",
      "execution_count": null,
      "id": "a1147b4b",
      "metadata": {
        "id": "a1147b4b",
        "outputId": "eeb42a43-7702-43f3-b20e-03b168cf5013"
      },
      "outputs": [
        {
          "name": "stdout",
          "output_type": "stream",
          "text": [
            "[8, 1, 6, 3, 4, 5, 2, 7, 0, 9]\n"
          ]
        }
      ],
      "source": [
        "arr = [0,1,2,3,4,5,6,7,8,9]\n",
        "tmp = arr[::2]\n",
        "tmp = tmp[::-1]\n",
        "arr[::2] = tmp\n",
        "print(arr)"
      ]
    },
    {
      "cell_type": "markdown",
      "id": "88e1b1b7",
      "metadata": {
        "id": "88e1b1b7"
      },
      "source": [
        "## 4.3.1 Задание"
      ]
    },
    {
      "cell_type": "code",
      "execution_count": null,
      "id": "87c56e98",
      "metadata": {
        "id": "87c56e98",
        "outputId": "60f6d378-b521-4967-828e-0e736fa16a36"
      },
      "outputs": [
        {
          "data": {
            "text/plain": [
              "<matplotlib.collections.PathCollection at 0x205a2f40520>"
            ]
          },
          "execution_count": 6,
          "metadata": {},
          "output_type": "execute_result"
        },
        {
          "data": {
            "image/png": "[encoded data removed]",
            "text/plain": [
              "<Figure size 640x480 with 1 Axes>"
            ]
          },
          "metadata": {},
          "output_type": "display_data"
        }
      ],
      "source": [
        "import numpy as np\n",
        "import random as rand\n",
        "from matplotlib import pyplot as plt\n",
        "array = ['1','2','3','4','5','6','7','8','9','10']\n",
        "values = np.empty(10,dtype = float)\n",
        "for i in range(10):\n",
        "  values[i] = rand.uniform(0,1)\n",
        "mean = np.mean(values)\n",
        "median = np.median(values)\n",
        "plt.grid()\n",
        "plt.scatter(array,values)"
      ]
    },
    {
      "cell_type": "markdown",
      "id": "ffd6bbdd",
      "metadata": {
        "id": "ffd6bbdd"
      },
      "source": [
        "## 4.3.2 Задание"
      ]
    },
    {
      "cell_type": "code",
      "execution_count": null,
      "id": "43c7fc81",
      "metadata": {
        "id": "43c7fc81",
        "outputId": "a2774ad2-1e9b-4d6d-e8a5-96c0da8b8104"
      },
      "outputs": [
        {
          "data": {
            "text/plain": [
              "<matplotlib.collections.PathCollection at 0x1900a28e400>"
            ]
          },
          "execution_count": 17,
          "metadata": {},
          "output_type": "execute_result"
        },
        {
          "data": {
            "image/png": "[encoded data removed]",
            "text/plain": [
              "<Figure size 640x480 with 1 Axes>"
            ]
          },
          "metadata": {},
          "output_type": "display_data"
        }
      ],
      "source": [
        "import numpy as np\n",
        "import matplotlib.pyplot as plt\n",
        "from numpy import trapz\n",
        "x = np.arange(1,10,1)\n",
        "y = np.sqrt(1+np.exp(np.sqrt(x))+np.cos(np.power(x,2)))/np.abs(1 - np.power(np.sin(x),3)) + np.log2(np.abs(2*x))\n",
        "plt.grid()\n",
        "plt.plot(x,y)\n",
        "plt.scatter(x[:5],y[:5])"
      ]
    },
    {
      "cell_type": "markdown",
      "id": "e7521ee6",
      "metadata": {
        "id": "e7521ee6"
      },
      "source": [
        "## 4.3.3 Задание"
      ]
    },
    {
      "cell_type": "code",
      "execution_count": 2,
      "id": "7f28e406",
      "metadata": {
        "id": "7f28e406",
        "outputId": "1e82dd12-76a9-43e1-b576-77aa1e2e18e6",
        "colab": {
          "base_uri": "https://localhost:8080/",
          "height": 286
        }
      },
      "outputs": [
        {
          "output_type": "stream",
          "name": "stdout",
          "text": [
            "5.009375419729414\n"
          ]
        },
        {
          "output_type": "display_data",
          "data": {
            "text/plain": [
              "<Figure size 432x288 with 1 Axes>"
            ],
            "image/png": "[encoded data removed]"
          },
          "metadata": {
            "needs_background": "light"
          }
        }
      ],
      "source": [
        "import numpy as np\n",
        "import matplotlib.pyplot as plt\n",
        "from numpy import trapz\n",
        "from scipy.integrate import simps\n",
        "\n",
        "x = np.arange(0.1, 10, 1)\n",
        "y = np.abs(np.cos(x*np.exp(np.cos(x) + np.log(x+1))))\n",
        "plt.grid()\n",
        "plt.plot(x, y, c = \"g\")\n",
        "plt.fill_between(x, y)\n",
        "\n",
        "area = trapz(y)\n",
        "print(area)"
      ]
    },
    {
      "cell_type": "markdown",
      "id": "69f61b18",
      "metadata": {
        "id": "69f61b18"
      },
      "source": [
        "## 4.3.4 Задание"
      ]
    },
    {
      "cell_type": "code",
      "execution_count": null,
      "id": "6b310901",
      "metadata": {
        "colab": {
          "base_uri": "https://localhost:8080/",
          "height": 298
        },
        "id": "6b310901",
        "outputId": "062d8018-2bdc-44e4-983d-da8aa5fe4efd"
      },
      "outputs": [
        {
          "output_type": "execute_result",
          "data": {
            "text/plain": [
              "Text(0.5, 1.0, 'График динамики цен для AAPL, MSFT, GOOG')"
            ]
          },
          "metadata": {},
          "execution_count": 4
        },
        {
          "output_type": "display_data",
          "data": {
            "text/plain": [
              "<Figure size 432x288 with 1 Axes>"
            ],
            "image/png": "[encoded data removed]"
          },
          "metadata": {
            "needs_background": "light"
          }
        }
      ],
      "source": [
        "import matplotlib.pyplot as plt\n",
        "apple = [173,163,173,156,147,136,161,156,137,152,147,129]\n",
        "micro = [306,275,269,255,279,260,232,231,254,239,247,263]\n",
        "goog = [139,114,114,109,116,109,96,94,101,88,99,94]\n",
        "plt.plot(apple,color = 'royalblue',label = 'AAPL')\n",
        "plt.plot(micro, color = 'mediumseagreen',label = 'MSFT')\n",
        "plt.plot(goog, color = 'c',label = 'GOOG')\n",
        "plt.legend()\n",
        "plt.grid()\n",
        "plt.title(\"График динамики цен для AAPL, MSFT, GOOG\")"
      ]
    },
    {
      "cell_type": "markdown",
      "id": "85e27774",
      "metadata": {
        "id": "85e27774"
      },
      "source": [
        "## 4.3.5 Задание"
      ]
    },
    {
      "cell_type": "code",
      "execution_count": null,
      "id": "82a988fa",
      "metadata": {
        "id": "82a988fa",
        "outputId": "e60ee6b6-3237-4851-d545-2a37ab06641f",
        "colab": {
          "base_uri": "https://localhost:8080/"
        }
      },
      "outputs": [
        {
          "output_type": "stream",
          "name": "stdout",
          "text": [
            "Enter x: 4\n",
            "Enter y: 4\n",
            "Enter operator (+, -, *, /, e^(x+y), sin(x+y), cos(x+y), x^y): x^y\n",
            "Result:  256.0\n"
          ]
        }
      ],
      "source": [
        "import math\n",
        "\n",
        "def calculator(x, y, operator):\n",
        "    if operator == '+':\n",
        "        return x + y\n",
        "    elif operator == '-':\n",
        "        return x - y\n",
        "    elif operator == '*':\n",
        "        return x * y\n",
        "    elif operator == '/':\n",
        "        return x / y\n",
        "    elif operator == 'e^(x+y)':\n",
        "        return math.exp(x + y)\n",
        "    elif operator == 'sin(x+y)':\n",
        "        return math.sin(x + y)\n",
        "    elif operator == 'cos(x+y)':\n",
        "        return math.cos(x + y)\n",
        "    elif operator == 'x^y':\n",
        "        return x ** y\n",
        "    else:\n",
        "        return \"Invalid operator\"\n",
        "\n",
        "x = float(input(\"Enter x: \"))\n",
        "y = float(input(\"Enter y: \"))\n",
        "operator = input(\"Enter operator (+, -, *, /, e^(x+y), sin(x+y), cos(x+y), x^y): \")\n",
        "\n",
        "print(\"Result: \", calculator(x, y, operator))"
      ]
    },
    {
      "cell_type": "markdown",
      "source": [
        "# Рабочая тетрадь № 2"
      ],
      "metadata": {
        "id": "gQWw8rK6ZP2k"
      },
      "id": "gQWw8rK6ZP2k"
    },
    {
      "cell_type": "markdown",
      "source": [
        "## 1.1. Теоретический материал – Библиотека NumPy"
      ],
      "metadata": {
        "id": "hPxxaw7aLTCZ"
      },
      "id": "hPxxaw7aLTCZ"
    },
    {
      "cell_type": "markdown",
      "id": "96b2bfa8",
      "metadata": {
        "id": "96b2bfa8"
      },
      "source": [
        "### 1.3.1 Задание"
      ]
    },
    {
      "cell_type": "code",
      "execution_count": null,
      "id": "1fe465ab",
      "metadata": {
        "id": "1fe465ab",
        "outputId": "46486c9b-13fe-469a-de2d-9b3eeb964b3a",
        "colab": {
          "base_uri": "https://localhost:8080/"
        }
      },
      "outputs": [
        {
          "output_type": "stream",
          "name": "stdout",
          "text": [
            "[[1 0 1 0 1 0 1 0]\n",
            " [0 1 0 1 0 1 0 1]\n",
            " [1 0 1 0 1 0 1 0]\n",
            " [0 1 0 1 0 1 0 1]\n",
            " [1 0 1 0 1 0 1 0]\n",
            " [0 1 0 1 0 1 0 1]\n",
            " [1 0 1 0 1 0 1 0]\n",
            " [0 1 0 1 0 1 0 1]]\n"
          ]
        }
      ],
      "source": [
        "import numpy as np\n",
        "\n",
        "matrix = np.zeros((8, 8), dtype=int) \n",
        "matrix[::2, ::2] = 1  \n",
        "matrix[1::2, 1::2] = 1  \n",
        "\n",
        "print(matrix)\n"
      ]
    },
    {
      "cell_type": "markdown",
      "source": [
        "### 1.3.2 Задание"
      ],
      "metadata": {
        "id": "jHOPWbSNKt9S"
      },
      "id": "jHOPWbSNKt9S"
    },
    {
      "cell_type": "code",
      "source": [
        "import numpy as np\n",
        "\n",
        "matrix = np.zeros((5, 5))\n",
        "for i in range(5):\n",
        "    matrix[i] = np.arange(i, i+5)\n",
        "\n",
        "print(matrix)"
      ],
      "metadata": {
        "colab": {
          "base_uri": "https://localhost:8080/"
        },
        "id": "qDNUTVviK5PK",
        "outputId": "ba81f7c7-d2e7-4109-f670-43160de65e71"
      },
      "id": "qDNUTVviK5PK",
      "execution_count": null,
      "outputs": [
        {
          "output_type": "stream",
          "name": "stdout",
          "text": [
            "[[0. 1. 2. 3. 4.]\n",
            " [1. 2. 3. 4. 5.]\n",
            " [2. 3. 4. 5. 6.]\n",
            " [3. 4. 5. 6. 7.]\n",
            " [4. 5. 6. 7. 8.]]\n"
          ]
        }
      ]
    },
    {
      "cell_type": "markdown",
      "source": [
        "### 1.3.3 Задание"
      ],
      "metadata": {
        "id": "ds0ouuU1KvrJ"
      },
      "id": "ds0ouuU1KvrJ"
    },
    {
      "cell_type": "code",
      "source": [
        "import numpy as np\n",
        "\n",
        "array = np.random.rand(3, 3, 3)\n",
        "\n",
        "print(array)\n"
      ],
      "metadata": {
        "colab": {
          "base_uri": "https://localhost:8080/"
        },
        "id": "IePspcogLAeL",
        "outputId": "52fb31b5-59b5-47c0-a9e1-98e182bdf27e"
      },
      "id": "IePspcogLAeL",
      "execution_count": null,
      "outputs": [
        {
          "output_type": "stream",
          "name": "stdout",
          "text": [
            "[[[0.42907138 0.7850458  0.81819498]\n",
            "  [0.31947558 0.04085329 0.75920899]\n",
            "  [0.54402161 0.84395062 0.04404723]]\n",
            "\n",
            " [[0.37469089 0.27515908 0.06456881]\n",
            "  [0.42830758 0.21142784 0.6657062 ]\n",
            "  [0.13381757 0.73868522 0.05174635]]\n",
            "\n",
            " [[0.39916893 0.66721482 0.5448334 ]\n",
            "  [0.80024287 0.5337276  0.28494709]\n",
            "  [0.12536055 0.05043812 0.11436053]]]\n"
          ]
        }
      ]
    },
    {
      "cell_type": "markdown",
      "source": [
        "### 1.3.4 Задание"
      ],
      "metadata": {
        "id": "PYN7wyNhKxo3"
      },
      "id": "PYN7wyNhKxo3"
    },
    {
      "cell_type": "code",
      "source": [
        "import numpy as np\n",
        "\n",
        "n_rows = 5\n",
        "n_cols = 5\n",
        "\n",
        "matrix = np.zeros((n_rows, n_cols))\n",
        "matrix[0, :] = 1\n",
        "matrix[-1, :] = 1\n",
        "matrix[:, 0] = 1\n",
        "matrix[:, -1] = 1\n",
        "\n",
        "print(matrix)\n"
      ],
      "metadata": {
        "colab": {
          "base_uri": "https://localhost:8080/"
        },
        "id": "j8YiFL9eLBru",
        "outputId": "c4c316c1-4e15-4034-fb9b-f155477616b7"
      },
      "id": "j8YiFL9eLBru",
      "execution_count": null,
      "outputs": [
        {
          "output_type": "stream",
          "name": "stdout",
          "text": [
            "[[1. 1. 1. 1. 1.]\n",
            " [1. 0. 0. 0. 1.]\n",
            " [1. 0. 0. 0. 1.]\n",
            " [1. 0. 0. 0. 1.]\n",
            " [1. 1. 1. 1. 1.]]\n"
          ]
        }
      ]
    },
    {
      "cell_type": "markdown",
      "source": [
        "### 1.3.5 Задание"
      ],
      "metadata": {
        "id": "ztEEOGM8Kz32"
      },
      "id": "ztEEOGM8Kz32"
    },
    {
      "cell_type": "code",
      "source": [
        "import numpy as np\n",
        "\n",
        "arr = np.array([5, 2, 8, 1, 9, 3])\n",
        "sorted_arr = np.sort(arr)[::-1]\n",
        "\n",
        "print(sorted_arr)\n"
      ],
      "metadata": {
        "colab": {
          "base_uri": "https://localhost:8080/"
        },
        "id": "c61IuXlELFLa",
        "outputId": "8b9ca520-2780-4147-e65c-fcab5698382d"
      },
      "id": "c61IuXlELFLa",
      "execution_count": null,
      "outputs": [
        {
          "output_type": "stream",
          "name": "stdout",
          "text": [
            "[9 8 5 3 2 1]\n"
          ]
        }
      ]
    },
    {
      "cell_type": "markdown",
      "source": [
        "### 1.3.6 Задание"
      ],
      "metadata": {
        "id": "ywZrrKARK1q-"
      },
      "id": "ywZrrKARK1q-"
    },
    {
      "cell_type": "code",
      "source": [
        "import numpy as np\n",
        "\n",
        "matrix = np.array([[1, 2, 3], [4, 5, 6], [7, 8, 9]])\n",
        "\n",
        "print(matrix)\n",
        "print(\"Форма:\", matrix.shape)\n",
        "print(\"Размер:\", matrix.size)\n",
        "print(\"Размерность:\", matrix.ndim)\n"
      ],
      "metadata": {
        "colab": {
          "base_uri": "https://localhost:8080/"
        },
        "id": "GzKRTCQOLH6_",
        "outputId": "b7e80804-c7de-4e52-96b8-d04522967c7f"
      },
      "id": "GzKRTCQOLH6_",
      "execution_count": null,
      "outputs": [
        {
          "output_type": "stream",
          "name": "stdout",
          "text": [
            "[[1 2 3]\n",
            " [4 5 6]\n",
            " [7 8 9]]\n",
            "Форма: (3, 3)\n",
            "Размер: 9\n",
            "Размерность: 2\n"
          ]
        }
      ]
    },
    {
      "cell_type": "markdown",
      "source": [
        "## 2.1. Теоретический материал – Библиотека Pandas"
      ],
      "metadata": {
        "id": "IHjjKg0SLgmU"
      },
      "id": "IHjjKg0SLgmU"
    },
    {
      "cell_type": "markdown",
      "source": [
        "### 2.3.1 Задание"
      ],
      "metadata": {
        "id": "yZD8TAAfLjzO"
      },
      "id": "yZD8TAAfLjzO"
    },
    {
      "cell_type": "code",
      "source": [
        "import numpy as np\n",
        "\n",
        "a = np.array([1, 2, 3])\n",
        "b = np.array([4, 5, 6])\n",
        "\n",
        "distance = np.sqrt(np.sum((a - b)**2))\n",
        "\n",
        "print(distance)\n"
      ],
      "metadata": {
        "colab": {
          "base_uri": "https://localhost:8080/"
        },
        "id": "Q-Oadi2iLsNV",
        "outputId": "48d5ed1e-2e52-488e-995b-59fc2d3328d9"
      },
      "id": "Q-Oadi2iLsNV",
      "execution_count": null,
      "outputs": [
        {
          "output_type": "stream",
          "name": "stdout",
          "text": [
            "5.196152422706632\n"
          ]
        }
      ]
    },
    {
      "cell_type": "markdown",
      "source": [
        "### 2.3.2 Задание"
      ],
      "metadata": {
        "id": "bDqLdEqhLpMA"
      },
      "id": "bDqLdEqhLpMA"
    },
    {
      "cell_type": "code",
      "source": [
        "import pandas as pd\n",
        "\n",
        "url = 'https://raw.githubusercontent.com/akmand/datasets/main/wine.csv'\n",
        "dataframe = pd.read_csv(url)\n",
        "dataframe.head()\n"
      ],
      "metadata": {
        "colab": {
          "base_uri": "https://localhost:8080/",
          "height": 210
        },
        "id": "ZMJUROYuLv38",
        "outputId": "1a7c6150-f814-498b-a978-fde686290c8f"
      },
      "id": "ZMJUROYuLv38",
      "execution_count": 3,
      "outputs": [
        {
          "output_type": "execute_result",
          "data": {
            "text/plain": [
              "       1     2     3     4    5     6     7     8     9    10    11    12  \\\n",
              "0  14.23  1.71  2.43  15.6  127  2.80  3.06  0.28  2.29  5.64  1.04  3.92   \n",
              "1  13.20  1.78  2.14  11.2  100  2.65  2.76  0.26  1.28  4.38  1.05  3.40   \n",
              "2  13.16  2.36  2.67  18.6  101  2.80  3.24  0.30  2.81  5.68  1.03  3.17   \n",
              "3  14.37  1.95  2.50  16.8  113  3.85  3.49  0.24  2.18  7.80  0.86  3.45   \n",
              "4  13.24  2.59  2.87  21.0  118  2.80  2.69  0.39  1.82  4.32  1.04  2.93   \n",
              "\n",
              "     13  y  \n",
              "0  1065  1  \n",
              "1  1050  1  \n",
              "2  1185  1  \n",
              "3  1480  1  \n",
              "4   735  1  "
            ],
            "text/html": [
              "\n",
              "  <div id=\"df-c2a96a7b-d273-4b01-a5c3-14bf6458fbdc\">\n",
              "    <div class=\"colab-df-container\">\n",
              "      <div>\n",
              "<style scoped>\n",
              "    .dataframe tbody tr th:only-of-type {\n",
              "        vertical-align: middle;\n",
              "    }\n",
              "\n",
              "    .dataframe tbody tr th {\n",
              "        vertical-align: top;\n",
              "    }\n",
              "\n",
              "    .dataframe thead th {\n",
              "        text-align: right;\n",
              "    }\n",
              "</style>\n",
              "<table border=\"1\" class=\"dataframe\">\n",
              "  <thead>\n",
              "    <tr style=\"text-align: right;\">\n",
              "      <th></th>\n",
              "      <th>1</th>\n",
              "      <th>2</th>\n",
              "      <th>3</th>\n",
              "      <th>4</th>\n",
              "      <th>5</th>\n",
              "      <th>6</th>\n",
              "      <th>7</th>\n",
              "      <th>8</th>\n",
              "      <th>9</th>\n",
              "      <th>10</th>\n",
              "      <th>11</th>\n",
              "      <th>12</th>\n",
              "      <th>13</th>\n",
              "      <th>y</th>\n",
              "    </tr>\n",
              "  </thead>\n",
              "  <tbody>\n",
              "    <tr>\n",
              "      <th>0</th>\n",
              "      <td>14.23</td>\n",
              "      <td>1.71</td>\n",
              "      <td>2.43</td>\n",
              "      <td>15.6</td>\n",
              "      <td>127</td>\n",
              "      <td>2.80</td>\n",
              "      <td>3.06</td>\n",
              "      <td>0.28</td>\n",
              "      <td>2.29</td>\n",
              "      <td>5.64</td>\n",
              "      <td>1.04</td>\n",
              "      <td>3.92</td>\n",
              "      <td>1065</td>\n",
              "      <td>1</td>\n",
              "    </tr>\n",
              "    <tr>\n",
              "      <th>1</th>\n",
              "      <td>13.20</td>\n",
              "      <td>1.78</td>\n",
              "      <td>2.14</td>\n",
              "      <td>11.2</td>\n",
              "      <td>100</td>\n",
              "      <td>2.65</td>\n",
              "      <td>2.76</td>\n",
              "      <td>0.26</td>\n",
              "      <td>1.28</td>\n",
              "      <td>4.38</td>\n",
              "      <td>1.05</td>\n",
              "      <td>3.40</td>\n",
              "      <td>1050</td>\n",
              "      <td>1</td>\n",
              "    </tr>\n",
              "    <tr>\n",
              "      <th>2</th>\n",
              "      <td>13.16</td>\n",
              "      <td>2.36</td>\n",
              "      <td>2.67</td>\n",
              "      <td>18.6</td>\n",
              "      <td>101</td>\n",
              "      <td>2.80</td>\n",
              "      <td>3.24</td>\n",
              "      <td>0.30</td>\n",
              "      <td>2.81</td>\n",
              "      <td>5.68</td>\n",
              "      <td>1.03</td>\n",
              "      <td>3.17</td>\n",
              "      <td>1185</td>\n",
              "      <td>1</td>\n",
              "    </tr>\n",
              "    <tr>\n",
              "      <th>3</th>\n",
              "      <td>14.37</td>\n",
              "      <td>1.95</td>\n",
              "      <td>2.50</td>\n",
              "      <td>16.8</td>\n",
              "      <td>113</td>\n",
              "      <td>3.85</td>\n",
              "      <td>3.49</td>\n",
              "      <td>0.24</td>\n",
              "      <td>2.18</td>\n",
              "      <td>7.80</td>\n",
              "      <td>0.86</td>\n",
              "      <td>3.45</td>\n",
              "      <td>1480</td>\n",
              "      <td>1</td>\n",
              "    </tr>\n",
              "    <tr>\n",
              "      <th>4</th>\n",
              "      <td>13.24</td>\n",
              "      <td>2.59</td>\n",
              "      <td>2.87</td>\n",
              "      <td>21.0</td>\n",
              "      <td>118</td>\n",
              "      <td>2.80</td>\n",
              "      <td>2.69</td>\n",
              "      <td>0.39</td>\n",
              "      <td>1.82</td>\n",
              "      <td>4.32</td>\n",
              "      <td>1.04</td>\n",
              "      <td>2.93</td>\n",
              "      <td>735</td>\n",
              "      <td>1</td>\n",
              "    </tr>\n",
              "  </tbody>\n",
              "</table>\n",
              "</div>\n",
              "      <button class=\"colab-df-convert\" onclick=\"convertToInteractive('df-c2a96a7b-d273-4b01-a5c3-14bf6458fbdc')\"\n",
              "              title=\"Convert this dataframe to an interactive table.\"\n",
              "              style=\"display:none;\">\n",
              "        \n",
              "  <svg xmlns=\"http://www.w3.org/2000/svg\" height=\"24px\"viewBox=\"0 0 24 24\"\n",
              "       width=\"24px\">\n",
              "    <path d=\"M0 0h24v24H0V0z\" fill=\"none\"/>\n",
              "    <path d=\"M18.56 5.44l.94 2.06.94-2.06 2.06-.94-2.06-.94-.94-2.06-.94 2.06-2.06.94zm-11 1L8.5 8.5l.94-2.06 2.06-.94-2.06-.94L8.5 2.5l-.94 2.06-2.06.94zm10 10l.94 2.06.94-2.06 2.06-.94-2.06-.94-.94-2.06-.94 2.06-2.06.94z\"/><path d=\"M17.41 7.96l-1.37-1.37c-.4-.4-.92-.59-1.43-.59-.52 0-1.04.2-1.43.59L10.3 9.45l-7.72 7.72c-.78.78-.78 2.05 0 2.83L4 21.41c.39.39.9.59 1.41.59.51 0 1.02-.2 1.41-.59l7.78-7.78 2.81-2.81c.8-.78.8-2.07 0-2.86zM5.41 20L4 18.59l7.72-7.72 1.47 1.35L5.41 20z\"/>\n",
              "  </svg>\n",
              "      </button>\n",
              "      \n",
              "  <style>\n",
              "    .colab-df-container {\n",
              "      display:flex;\n",
              "      flex-wrap:wrap;\n",
              "      gap: 12px;\n",
              "    }\n",
              "\n",
              "    .colab-df-convert {\n",
              "      background-color: #E8F0FE;\n",
              "      border: none;\n",
              "      border-radius: 50%;\n",
              "      cursor: pointer;\n",
              "      display: none;\n",
              "      fill: #1967D2;\n",
              "      height: 32px;\n",
              "      padding: 0 0 0 0;\n",
              "      width: 32px;\n",
              "    }\n",
              "\n",
              "    .colab-df-convert:hover {\n",
              "      background-color: #E2EBFA;\n",
              "      box-shadow: 0px 1px 2px rgba(60, 64, 67, 0.3), 0px 1px 3px 1px rgba(60, 64, 67, 0.15);\n",
              "      fill: #174EA6;\n",
              "    }\n",
              "\n",
              "    [theme=dark] .colab-df-convert {\n",
              "      background-color: #3B4455;\n",
              "      fill: #D2E3FC;\n",
              "    }\n",
              "\n",
              "    [theme=dark] .colab-df-convert:hover {\n",
              "      background-color: #434B5C;\n",
              "      box-shadow: 0px 1px 3px 1px rgba(0, 0, 0, 0.15);\n",
              "      filter: drop-shadow(0px 1px 2px rgba(0, 0, 0, 0.3));\n",
              "      fill: #FFFFFF;\n",
              "    }\n",
              "  </style>\n",
              "\n",
              "      <script>\n",
              "        const buttonEl =\n",
              "          document.querySelector('#df-c2a96a7b-d273-4b01-a5c3-14bf6458fbdc button.colab-df-convert');\n",
              "        buttonEl.style.display =\n",
              "          google.colab.kernel.accessAllowed ? 'block' : 'none';\n",
              "\n",
              "        async function convertToInteractive(key) {\n",
              "          const element = document.querySelector('#df-c2a96a7b-d273-4b01-a5c3-14bf6458fbdc');\n",
              "          const dataTable =\n",
              "            await google.colab.kernel.invokeFunction('convertToInteractive',\n",
              "                                                     [key], {});\n",
              "          if (!dataTable) return;\n",
              "\n",
              "          const docLinkHtml = 'Like what you see? Visit the ' +\n",
              "            '<a target=\"_blank\" href=https://colab.research.google.com/notebooks/data_table.ipynb>data table notebook</a>'\n",
              "            + ' to learn more about interactive tables.';\n",
              "          element.innerHTML = '';\n",
              "          dataTable['output_type'] = 'display_data';\n",
              "          await google.colab.output.renderOutput(dataTable, element);\n",
              "          const docLink = document.createElement('div');\n",
              "          docLink.innerHTML = docLinkHtml;\n",
              "          element.appendChild(docLink);\n",
              "        }\n",
              "      </script>\n",
              "    </div>\n",
              "  </div>\n",
              "  "
            ]
          },
          "metadata": {},
          "execution_count": 3
        }
      ]
    },
    {
      "cell_type": "markdown",
      "source": [
        "### 2.3.3 Задание"
      ],
      "metadata": {
        "id": "A7XftjcQLp8n"
      },
      "id": "A7XftjcQLp8n"
    },
    {
      "cell_type": "code",
      "source": [
        "import pandas as pd\n",
        "\n",
        "url = 'https://raw.githubusercontent.com/akmand/datasets/main/wine.csv'\n",
        "dataframe = pd.read_csv(url)\n",
        "\n",
        "dataframe.columns\n",
        "dataframe.head(2)\n",
        "print(\"\\n\")\n",
        "dataframe.tail(3)\n",
        "print(\"\\n\")\n",
        "dataframe.shape\n",
        "print(\"\\n\")\n",
        "dataframe.describe()\n",
        "print(\"\\n\")\n",
        "\n",
        "dataframe['1']\n",
        "print(\"\\n\")\n",
        "dataframe.iloc[2:5, 3:6]\n",
        "print(\"\\n\")\n",
        "\n",
        "filtered_df = dataframe[dataframe['1'] > 13.0]  \n",
        "filtered_df.head()"
      ],
      "metadata": {
        "colab": {
          "base_uri": "https://localhost:8080/",
          "height": 414
        },
        "id": "HHwqwRJhLzKI",
        "outputId": "a97c19e7-d236-448b-c213-30524d4450ca"
      },
      "id": "HHwqwRJhLzKI",
      "execution_count": 5,
      "outputs": [
        {
          "output_type": "stream",
          "name": "stdout",
          "text": [
            "\n",
            "\n",
            "\n",
            "\n",
            "\n",
            "\n",
            "\n",
            "\n",
            "\n",
            "\n",
            "\n",
            "\n"
          ]
        },
        {
          "output_type": "execute_result",
          "data": {
            "text/plain": [
              "       1     2     3     4    5     6     7     8     9    10    11    12  \\\n",
              "0  14.23  1.71  2.43  15.6  127  2.80  3.06  0.28  2.29  5.64  1.04  3.92   \n",
              "1  13.20  1.78  2.14  11.2  100  2.65  2.76  0.26  1.28  4.38  1.05  3.40   \n",
              "2  13.16  2.36  2.67  18.6  101  2.80  3.24  0.30  2.81  5.68  1.03  3.17   \n",
              "3  14.37  1.95  2.50  16.8  113  3.85  3.49  0.24  2.18  7.80  0.86  3.45   \n",
              "4  13.24  2.59  2.87  21.0  118  2.80  2.69  0.39  1.82  4.32  1.04  2.93   \n",
              "\n",
              "     13  y  \n",
              "0  1065  1  \n",
              "1  1050  1  \n",
              "2  1185  1  \n",
              "3  1480  1  \n",
              "4   735  1  "
            ],
            "text/html": [
              "\n",
              "  <div id=\"df-09f02b9a-d51f-4e9f-8c47-908bb3e0de02\">\n",
              "    <div class=\"colab-df-container\">\n",
              "      <div>\n",
              "<style scoped>\n",
              "    .dataframe tbody tr th:only-of-type {\n",
              "        vertical-align: middle;\n",
              "    }\n",
              "\n",
              "    .dataframe tbody tr th {\n",
              "        vertical-align: top;\n",
              "    }\n",
              "\n",
              "    .dataframe thead th {\n",
              "        text-align: right;\n",
              "    }\n",
              "</style>\n",
              "<table border=\"1\" class=\"dataframe\">\n",
              "  <thead>\n",
              "    <tr style=\"text-align: right;\">\n",
              "      <th></th>\n",
              "      <th>1</th>\n",
              "      <th>2</th>\n",
              "      <th>3</th>\n",
              "      <th>4</th>\n",
              "      <th>5</th>\n",
              "      <th>6</th>\n",
              "      <th>7</th>\n",
              "      <th>8</th>\n",
              "      <th>9</th>\n",
              "      <th>10</th>\n",
              "      <th>11</th>\n",
              "      <th>12</th>\n",
              "      <th>13</th>\n",
              "      <th>y</th>\n",
              "    </tr>\n",
              "  </thead>\n",
              "  <tbody>\n",
              "    <tr>\n",
              "      <th>0</th>\n",
              "      <td>14.23</td>\n",
              "      <td>1.71</td>\n",
              "      <td>2.43</td>\n",
              "      <td>15.6</td>\n",
              "      <td>127</td>\n",
              "      <td>2.80</td>\n",
              "      <td>3.06</td>\n",
              "      <td>0.28</td>\n",
              "      <td>2.29</td>\n",
              "      <td>5.64</td>\n",
              "      <td>1.04</td>\n",
              "      <td>3.92</td>\n",
              "      <td>1065</td>\n",
              "      <td>1</td>\n",
              "    </tr>\n",
              "    <tr>\n",
              "      <th>1</th>\n",
              "      <td>13.20</td>\n",
              "      <td>1.78</td>\n",
              "      <td>2.14</td>\n",
              "      <td>11.2</td>\n",
              "      <td>100</td>\n",
              "      <td>2.65</td>\n",
              "      <td>2.76</td>\n",
              "      <td>0.26</td>\n",
              "      <td>1.28</td>\n",
              "      <td>4.38</td>\n",
              "      <td>1.05</td>\n",
              "      <td>3.40</td>\n",
              "      <td>1050</td>\n",
              "      <td>1</td>\n",
              "    </tr>\n",
              "    <tr>\n",
              "      <th>2</th>\n",
              "      <td>13.16</td>\n",
              "      <td>2.36</td>\n",
              "      <td>2.67</td>\n",
              "      <td>18.6</td>\n",
              "      <td>101</td>\n",
              "      <td>2.80</td>\n",
              "      <td>3.24</td>\n",
              "      <td>0.30</td>\n",
              "      <td>2.81</td>\n",
              "      <td>5.68</td>\n",
              "      <td>1.03</td>\n",
              "      <td>3.17</td>\n",
              "      <td>1185</td>\n",
              "      <td>1</td>\n",
              "    </tr>\n",
              "    <tr>\n",
              "      <th>3</th>\n",
              "      <td>14.37</td>\n",
              "      <td>1.95</td>\n",
              "      <td>2.50</td>\n",
              "      <td>16.8</td>\n",
              "      <td>113</td>\n",
              "      <td>3.85</td>\n",
              "      <td>3.49</td>\n",
              "      <td>0.24</td>\n",
              "      <td>2.18</td>\n",
              "      <td>7.80</td>\n",
              "      <td>0.86</td>\n",
              "      <td>3.45</td>\n",
              "      <td>1480</td>\n",
              "      <td>1</td>\n",
              "    </tr>\n",
              "    <tr>\n",
              "      <th>4</th>\n",
              "      <td>13.24</td>\n",
              "      <td>2.59</td>\n",
              "      <td>2.87</td>\n",
              "      <td>21.0</td>\n",
              "      <td>118</td>\n",
              "      <td>2.80</td>\n",
              "      <td>2.69</td>\n",
              "      <td>0.39</td>\n",
              "      <td>1.82</td>\n",
              "      <td>4.32</td>\n",
              "      <td>1.04</td>\n",
              "      <td>2.93</td>\n",
              "      <td>735</td>\n",
              "      <td>1</td>\n",
              "    </tr>\n",
              "  </tbody>\n",
              "</table>\n",
              "</div>\n",
              "      <button class=\"colab-df-convert\" onclick=\"convertToInteractive('df-09f02b9a-d51f-4e9f-8c47-908bb3e0de02')\"\n",
              "              title=\"Convert this dataframe to an interactive table.\"\n",
              "              style=\"display:none;\">\n",
              "        \n",
              "  <svg xmlns=\"http://www.w3.org/2000/svg\" height=\"24px\"viewBox=\"0 0 24 24\"\n",
              "       width=\"24px\">\n",
              "    <path d=\"M0 0h24v24H0V0z\" fill=\"none\"/>\n",
              "    <path d=\"M18.56 5.44l.94 2.06.94-2.06 2.06-.94-2.06-.94-.94-2.06-.94 2.06-2.06.94zm-11 1L8.5 8.5l.94-2.06 2.06-.94-2.06-.94L8.5 2.5l-.94 2.06-2.06.94zm10 10l.94 2.06.94-2.06 2.06-.94-2.06-.94-.94-2.06-.94 2.06-2.06.94z\"/><path d=\"M17.41 7.96l-1.37-1.37c-.4-.4-.92-.59-1.43-.59-.52 0-1.04.2-1.43.59L10.3 9.45l-7.72 7.72c-.78.78-.78 2.05 0 2.83L4 21.41c.39.39.9.59 1.41.59.51 0 1.02-.2 1.41-.59l7.78-7.78 2.81-2.81c.8-.78.8-2.07 0-2.86zM5.41 20L4 18.59l7.72-7.72 1.47 1.35L5.41 20z\"/>\n",
              "  </svg>\n",
              "      </button>\n",
              "      \n",
              "  <style>\n",
              "    .colab-df-container {\n",
              "      display:flex;\n",
              "      flex-wrap:wrap;\n",
              "      gap: 12px;\n",
              "    }\n",
              "\n",
              "    .colab-df-convert {\n",
              "      background-color: #E8F0FE;\n",
              "      border: none;\n",
              "      border-radius: 50%;\n",
              "      cursor: pointer;\n",
              "      display: none;\n",
              "      fill: #1967D2;\n",
              "      height: 32px;\n",
              "      padding: 0 0 0 0;\n",
              "      width: 32px;\n",
              "    }\n",
              "\n",
              "    .colab-df-convert:hover {\n",
              "      background-color: #E2EBFA;\n",
              "      box-shadow: 0px 1px 2px rgba(60, 64, 67, 0.3), 0px 1px 3px 1px rgba(60, 64, 67, 0.15);\n",
              "      fill: #174EA6;\n",
              "    }\n",
              "\n",
              "    [theme=dark] .colab-df-convert {\n",
              "      background-color: #3B4455;\n",
              "      fill: #D2E3FC;\n",
              "    }\n",
              "\n",
              "    [theme=dark] .colab-df-convert:hover {\n",
              "      background-color: #434B5C;\n",
              "      box-shadow: 0px 1px 3px 1px rgba(0, 0, 0, 0.15);\n",
              "      filter: drop-shadow(0px 1px 2px rgba(0, 0, 0, 0.3));\n",
              "      fill: #FFFFFF;\n",
              "    }\n",
              "  </style>\n",
              "\n",
              "      <script>\n",
              "        const buttonEl =\n",
              "          document.querySelector('#df-09f02b9a-d51f-4e9f-8c47-908bb3e0de02 button.colab-df-convert');\n",
              "        buttonEl.style.display =\n",
              "          google.colab.kernel.accessAllowed ? 'block' : 'none';\n",
              "\n",
              "        async function convertToInteractive(key) {\n",
              "          const element = document.querySelector('#df-09f02b9a-d51f-4e9f-8c47-908bb3e0de02');\n",
              "          const dataTable =\n",
              "            await google.colab.kernel.invokeFunction('convertToInteractive',\n",
              "                                                     [key], {});\n",
              "          if (!dataTable) return;\n",
              "\n",
              "          const docLinkHtml = 'Like what you see? Visit the ' +\n",
              "            '<a target=\"_blank\" href=https://colab.research.google.com/notebooks/data_table.ipynb>data table notebook</a>'\n",
              "            + ' to learn more about interactive tables.';\n",
              "          element.innerHTML = '';\n",
              "          dataTable['output_type'] = 'display_data';\n",
              "          await google.colab.output.renderOutput(dataTable, element);\n",
              "          const docLink = document.createElement('div');\n",
              "          docLink.innerHTML = docLinkHtml;\n",
              "          element.appendChild(docLink);\n",
              "        }\n",
              "      </script>\n",
              "    </div>\n",
              "  </div>\n",
              "  "
            ]
          },
          "metadata": {},
          "execution_count": 5
        }
      ]
    },
    {
      "cell_type": "markdown",
      "source": [
        "## 3.1. Теоретический материал – Работа с числовыми данными"
      ],
      "metadata": {
        "id": "FiWkG-c8L8mN"
      },
      "id": "FiWkG-c8L8mN"
    },
    {
      "cell_type": "markdown",
      "source": [
        "### 3.3.2 Задание"
      ],
      "metadata": {
        "id": "ETL0R1rJL_O0"
      },
      "id": "ETL0R1rJL_O0"
    },
    {
      "cell_type": "code",
      "source": [
        "import pandas as pd\n",
        "from sklearn.preprocessing import MinMaxScaler, StandardScaler\n",
        "\n",
        "url = \"https://raw.githubusercontent.com/akmand/datasets/master/iris.csv\"\n",
        "df = pd.read_csv(url)\n",
        "\n",
        "X = df.drop('species', axis=1)\n",
        "y = df['species']\n",
        "\n",
        "scaler_minmax = MinMaxScaler()\n",
        "X['sepal_length_cm'] = scaler_minmax.fit_transform(X[['sepal_length_cm']])\n",
        "\n",
        "scaler_z = StandardScaler()\n",
        "X['sepal_width_cm'] = scaler_z.fit_transform(X[['sepal_width_cm']])\n",
        "\n",
        "X.head()\n"
      ],
      "metadata": {
        "id": "ybiqtTKwMF_q",
        "outputId": "e9b76537-f544-4882-c027-8213113d3ffc",
        "colab": {
          "base_uri": "https://localhost:8080/",
          "height": 206
        }
      },
      "id": "ybiqtTKwMF_q",
      "execution_count": 6,
      "outputs": [
        {
          "output_type": "execute_result",
          "data": {
            "text/plain": [
              "   sepal_length_cm  sepal_width_cm  petal_length_cm  petal_width_cm\n",
              "0         0.222222        1.032057              1.4             0.2\n",
              "1         0.166667       -0.124958              1.4             0.2\n",
              "2         0.111111        0.337848              1.3             0.2\n",
              "3         0.083333        0.106445              1.5             0.2\n",
              "4         0.194444        1.263460              1.4             0.2"
            ],
            "text/html": [
              "\n",
              "  <div id=\"df-8aacb121-7186-4361-a102-2a9884c1cd10\">\n",
              "    <div class=\"colab-df-container\">\n",
              "      <div>\n",
              "<style scoped>\n",
              "    .dataframe tbody tr th:only-of-type {\n",
              "        vertical-align: middle;\n",
              "    }\n",
              "\n",
              "    .dataframe tbody tr th {\n",
              "        vertical-align: top;\n",
              "    }\n",
              "\n",
              "    .dataframe thead th {\n",
              "        text-align: right;\n",
              "    }\n",
              "</style>\n",
              "<table border=\"1\" class=\"dataframe\">\n",
              "  <thead>\n",
              "    <tr style=\"text-align: right;\">\n",
              "      <th></th>\n",
              "      <th>sepal_length_cm</th>\n",
              "      <th>sepal_width_cm</th>\n",
              "      <th>petal_length_cm</th>\n",
              "      <th>petal_width_cm</th>\n",
              "    </tr>\n",
              "  </thead>\n",
              "  <tbody>\n",
              "    <tr>\n",
              "      <th>0</th>\n",
              "      <td>0.222222</td>\n",
              "      <td>1.032057</td>\n",
              "      <td>1.4</td>\n",
              "      <td>0.2</td>\n",
              "    </tr>\n",
              "    <tr>\n",
              "      <th>1</th>\n",
              "      <td>0.166667</td>\n",
              "      <td>-0.124958</td>\n",
              "      <td>1.4</td>\n",
              "      <td>0.2</td>\n",
              "    </tr>\n",
              "    <tr>\n",
              "      <th>2</th>\n",
              "      <td>0.111111</td>\n",
              "      <td>0.337848</td>\n",
              "      <td>1.3</td>\n",
              "      <td>0.2</td>\n",
              "    </tr>\n",
              "    <tr>\n",
              "      <th>3</th>\n",
              "      <td>0.083333</td>\n",
              "      <td>0.106445</td>\n",
              "      <td>1.5</td>\n",
              "      <td>0.2</td>\n",
              "    </tr>\n",
              "    <tr>\n",
              "      <th>4</th>\n",
              "      <td>0.194444</td>\n",
              "      <td>1.263460</td>\n",
              "      <td>1.4</td>\n",
              "      <td>0.2</td>\n",
              "    </tr>\n",
              "  </tbody>\n",
              "</table>\n",
              "</div>\n",
              "      <button class=\"colab-df-convert\" onclick=\"convertToInteractive('df-8aacb121-7186-4361-a102-2a9884c1cd10')\"\n",
              "              title=\"Convert this dataframe to an interactive table.\"\n",
              "              style=\"display:none;\">\n",
              "        \n",
              "  <svg xmlns=\"http://www.w3.org/2000/svg\" height=\"24px\"viewBox=\"0 0 24 24\"\n",
              "       width=\"24px\">\n",
              "    <path d=\"M0 0h24v24H0V0z\" fill=\"none\"/>\n",
              "    <path d=\"M18.56 5.44l.94 2.06.94-2.06 2.06-.94-2.06-.94-.94-2.06-.94 2.06-2.06.94zm-11 1L8.5 8.5l.94-2.06 2.06-.94-2.06-.94L8.5 2.5l-.94 2.06-2.06.94zm10 10l.94 2.06.94-2.06 2.06-.94-2.06-.94-.94-2.06-.94 2.06-2.06.94z\"/><path d=\"M17.41 7.96l-1.37-1.37c-.4-.4-.92-.59-1.43-.59-.52 0-1.04.2-1.43.59L10.3 9.45l-7.72 7.72c-.78.78-.78 2.05 0 2.83L4 21.41c.39.39.9.59 1.41.59.51 0 1.02-.2 1.41-.59l7.78-7.78 2.81-2.81c.8-.78.8-2.07 0-2.86zM5.41 20L4 18.59l7.72-7.72 1.47 1.35L5.41 20z\"/>\n",
              "  </svg>\n",
              "      </button>\n",
              "      \n",
              "  <style>\n",
              "    .colab-df-container {\n",
              "      display:flex;\n",
              "      flex-wrap:wrap;\n",
              "      gap: 12px;\n",
              "    }\n",
              "\n",
              "    .colab-df-convert {\n",
              "      background-color: #E8F0FE;\n",
              "      border: none;\n",
              "      border-radius: 50%;\n",
              "      cursor: pointer;\n",
              "      display: none;\n",
              "      fill: #1967D2;\n",
              "      height: 32px;\n",
              "      padding: 0 0 0 0;\n",
              "      width: 32px;\n",
              "    }\n",
              "\n",
              "    .colab-df-convert:hover {\n",
              "      background-color: #E2EBFA;\n",
              "      box-shadow: 0px 1px 2px rgba(60, 64, 67, 0.3), 0px 1px 3px 1px rgba(60, 64, 67, 0.15);\n",
              "      fill: #174EA6;\n",
              "    }\n",
              "\n",
              "    [theme=dark] .colab-df-convert {\n",
              "      background-color: #3B4455;\n",
              "      fill: #D2E3FC;\n",
              "    }\n",
              "\n",
              "    [theme=dark] .colab-df-convert:hover {\n",
              "      background-color: #434B5C;\n",
              "      box-shadow: 0px 1px 3px 1px rgba(0, 0, 0, 0.15);\n",
              "      filter: drop-shadow(0px 1px 2px rgba(0, 0, 0, 0.3));\n",
              "      fill: #FFFFFF;\n",
              "    }\n",
              "  </style>\n",
              "\n",
              "      <script>\n",
              "        const buttonEl =\n",
              "          document.querySelector('#df-8aacb121-7186-4361-a102-2a9884c1cd10 button.colab-df-convert');\n",
              "        buttonEl.style.display =\n",
              "          google.colab.kernel.accessAllowed ? 'block' : 'none';\n",
              "\n",
              "        async function convertToInteractive(key) {\n",
              "          const element = document.querySelector('#df-8aacb121-7186-4361-a102-2a9884c1cd10');\n",
              "          const dataTable =\n",
              "            await google.colab.kernel.invokeFunction('convertToInteractive',\n",
              "                                                     [key], {});\n",
              "          if (!dataTable) return;\n",
              "\n",
              "          const docLinkHtml = 'Like what you see? Visit the ' +\n",
              "            '<a target=\"_blank\" href=https://colab.research.google.com/notebooks/data_table.ipynb>data table notebook</a>'\n",
              "            + ' to learn more about interactive tables.';\n",
              "          element.innerHTML = '';\n",
              "          dataTable['output_type'] = 'display_data';\n",
              "          await google.colab.output.renderOutput(dataTable, element);\n",
              "          const docLink = document.createElement('div');\n",
              "          docLink.innerHTML = docLinkHtml;\n",
              "          element.appendChild(docLink);\n",
              "        }\n",
              "      </script>\n",
              "    </div>\n",
              "  </div>\n",
              "  "
            ]
          },
          "metadata": {},
          "execution_count": 6
        }
      ]
    }
  ],
  "metadata": {
    "kernelspec": {
      "display_name": "Python 3 (ipykernel)",
      "language": "python",
      "name": "python3"
    },
    "language_info": {
      "codemirror_mode": {
        "name": "ipython",
        "version": 3
      },
      "file_extension": ".py",
      "mimetype": "text/x-python",
      "name": "python",
      "nbconvert_exporter": "python",
      "pygments_lexer": "ipython3",
      "version": "3.9.13"
    },
    "colab": {
      "provenance": [],
      "include_colab_link": true
    }
  },
  "nbformat": 4,
  "nbformat_minor": 5
}